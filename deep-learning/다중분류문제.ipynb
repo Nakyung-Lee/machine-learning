{
 "cells": [
  {
   "cell_type": "code",
   "execution_count": 1,
   "metadata": {},
   "outputs": [
    {
     "data": {
      "text/plain": [
       "'2.4.3'"
      ]
     },
     "execution_count": 1,
     "metadata": {},
     "output_type": "execute_result"
    }
   ],
   "source": [
    "import keras\n",
    "keras.__version__"
   ]
  },
  {
   "cell_type": "code",
   "execution_count": 2,
   "metadata": {},
   "outputs": [
    {
     "name": "stdout",
     "output_type": "stream",
     "text": [
      "Downloading data from https://storage.googleapis.com/tensorflow/tf-keras-datasets/reuters.npz\n",
      "2113536/2110848 [==============================] - 0s 0us/step\n"
     ]
    }
   ],
   "source": [
    "from keras.datasets import reuters\n",
    "import numpy as np \n",
    "(train_data, train_labels), (test_data, test_labels) = reuters.load_data(num_words=10000)"
   ]
  },
  {
   "cell_type": "code",
   "execution_count": 3,
   "metadata": {},
   "outputs": [
    {
     "data": {
      "text/plain": [
       "8982"
      ]
     },
     "execution_count": 3,
     "metadata": {},
     "output_type": "execute_result"
    }
   ],
   "source": [
    "len(train_data)"
   ]
  },
  {
   "cell_type": "code",
   "execution_count": 4,
   "metadata": {},
   "outputs": [
    {
     "data": {
      "text/plain": [
       "[1,\n",
       " 245,\n",
       " 273,\n",
       " 207,\n",
       " 156,\n",
       " 53,\n",
       " 74,\n",
       " 160,\n",
       " 26,\n",
       " 14,\n",
       " 46,\n",
       " 296,\n",
       " 26,\n",
       " 39,\n",
       " 74,\n",
       " 2979,\n",
       " 3554,\n",
       " 14,\n",
       " 46,\n",
       " 4689,\n",
       " 4329,\n",
       " 86,\n",
       " 61,\n",
       " 3499,\n",
       " 4795,\n",
       " 14,\n",
       " 61,\n",
       " 451,\n",
       " 4329,\n",
       " 17,\n",
       " 12]"
      ]
     },
     "execution_count": 4,
     "metadata": {},
     "output_type": "execute_result"
    }
   ],
   "source": [
    "train_data[10]"
   ]
  },
  {
   "cell_type": "code",
   "execution_count": 5,
   "metadata": {},
   "outputs": [
    {
     "name": "stdout",
     "output_type": "stream",
     "text": [
      "Downloading data from https://storage.googleapis.com/tensorflow/tf-keras-datasets/reuters_word_index.json\n",
      "557056/550378 [==============================] - 0s 0us/step\n"
     ]
    }
   ],
   "source": [
    "word_index = reuters.get_word_index()\n",
    "reverse_word_index = dict([(value, key) for (key, value) in word_index.items()])\n",
    "# 0, 1, 2는 '패딩', '문서 시작', '사전에 없음'을 위한 인덱스이므로 3을 뺀다\n",
    "decoded_newswire = ' '.join([reverse_word_index.get(i - 3, '?') for i in train_data[0]])"
   ]
  },
  {
   "cell_type": "code",
   "execution_count": 6,
   "metadata": {},
   "outputs": [
    {
     "data": {
      "text/plain": [
       "'? ? ? said as a result of its december acquisition of space co it expects earnings per share in 1987 of 1 15 to 1 30 dlrs per share up from 70 cts in 1986 the company said pretax net should rise to nine to 10 mln dlrs from six mln dlrs in 1986 and rental operation revenues to 19 to 22 mln dlrs from 12 5 mln dlrs it said cash flow per share this year should be 2 50 to three dlrs reuter 3'"
      ]
     },
     "execution_count": 6,
     "metadata": {},
     "output_type": "execute_result"
    }
   ],
   "source": [
    "decoded_newswire"
   ]
  },
  {
   "cell_type": "code",
   "execution_count": 7,
   "metadata": {},
   "outputs": [
    {
     "data": {
      "text/plain": [
       "3"
      ]
     },
     "execution_count": 7,
     "metadata": {},
     "output_type": "execute_result"
    }
   ],
   "source": [
    "train_labels[10]"
   ]
  },
  {
   "cell_type": "code",
   "execution_count": 8,
   "metadata": {},
   "outputs": [],
   "source": [
    "import numpy as np\n",
    "\n",
    "def vectorize_sequences(sequences, dimension=10000):\n",
    "    results = np.zeros((len(sequences), dimension))\n",
    "    for i, sequence in enumerate(sequences):\n",
    "        results[i, sequence] = 1.\n",
    "    return results\n",
    "\n",
    "# 훈련 데이터 벡터 변환\n",
    "x_train = vectorize_sequences(train_data)\n",
    "# 테스트 데이터 벡터 변환\n",
    "x_test = vectorize_sequences(test_data)"
   ]
  },
  {
   "cell_type": "code",
   "execution_count": 9,
   "metadata": {},
   "outputs": [],
   "source": [
    "def to_one_hot(labels, dimension=46):\n",
    "    results = np.zeros((len(labels), dimension))\n",
    "    for i, label in enumerate(labels):\n",
    "        results[i, label] = 1.\n",
    "    return results\n",
    "\n",
    "# 훈련 레이블 벡터 변환\n",
    "one_hot_train_labels = to_one_hot(train_labels)\n",
    "# 테스트 레이블 벡터 변환\n",
    "one_hot_test_labels = to_one_hot(test_labels)"
   ]
  },
  {
   "cell_type": "code",
   "execution_count": 10,
   "metadata": {},
   "outputs": [],
   "source": [
    "from keras.utils.np_utils import to_categorical\n",
    "\n",
    "one_hot_train_labels = to_categorical(train_labels)\n",
    "one_hot_test_labels = to_categorical(test_labels)"
   ]
  },
  {
   "cell_type": "code",
   "execution_count": 11,
   "metadata": {},
   "outputs": [],
   "source": [
    "from keras import models\n",
    "from keras import layers\n",
    "\n",
    "model = models.Sequential()\n",
    "model.add(layers.Dense(64, activation='relu', input_shape=(10000,)))\n",
    "model.add(layers.Dense(64, activation='relu'))\n",
    "model.add(layers.Dense(46, activation='softmax'))"
   ]
  },
  {
   "cell_type": "code",
   "execution_count": 12,
   "metadata": {},
   "outputs": [],
   "source": [
    "model.compile(optimizer='rmsprop',\n",
    "              loss='categorical_crossentropy',\n",
    "              metrics=['accuracy'])"
   ]
  },
  {
   "cell_type": "code",
   "execution_count": 13,
   "metadata": {},
   "outputs": [],
   "source": [
    "x_val = x_train[:1000]\n",
    "partial_x_train = x_train[1000:]\n",
    "\n",
    "y_val = one_hot_train_labels[:1000]\n",
    "partial_y_train = one_hot_train_labels[1000:]"
   ]
  },
  {
   "cell_type": "code",
   "execution_count": 14,
   "metadata": {},
   "outputs": [
    {
     "name": "stdout",
     "output_type": "stream",
     "text": [
      "Epoch 1/20\n",
      "16/16 [==============================] - 10s 527ms/step - loss: 3.0582 - accuracy: 0.4138 - val_loss: 1.6702 - val_accuracy: 0.6520\n",
      "Epoch 2/20\n",
      "16/16 [==============================] - 1s 67ms/step - loss: 1.4789 - accuracy: 0.7003 - val_loss: 1.3089 - val_accuracy: 0.7030\n",
      "Epoch 3/20\n",
      "16/16 [==============================] - 1s 81ms/step - loss: 1.0842 - accuracy: 0.7727 - val_loss: 1.1366 - val_accuracy: 0.7360\n",
      "Epoch 4/20\n",
      "16/16 [==============================] - ETA: 0s - loss: 0.8372 - accuracy: 0.82 - 1s 68ms/step - loss: 0.8361 - accuracy: 0.8219 - val_loss: 1.0438 - val_accuracy: 0.7680\n",
      "Epoch 5/20\n",
      "16/16 [==============================] - 1s 66ms/step - loss: 0.6684 - accuracy: 0.8616 - val_loss: 0.9613 - val_accuracy: 0.7950\n",
      "Epoch 6/20\n",
      "16/16 [==============================] - 1s 65ms/step - loss: 0.5178 - accuracy: 0.8949 - val_loss: 0.9302 - val_accuracy: 0.8070\n",
      "Epoch 7/20\n",
      "16/16 [==============================] - 1s 63ms/step - loss: 0.4237 - accuracy: 0.9117 - val_loss: 0.8881 - val_accuracy: 0.8180\n",
      "Epoch 8/20\n",
      "16/16 [==============================] - 1s 59ms/step - loss: 0.3290 - accuracy: 0.9306 - val_loss: 0.8949 - val_accuracy: 0.8180\n",
      "Epoch 9/20\n",
      "16/16 [==============================] - 1s 60ms/step - loss: 0.2790 - accuracy: 0.9401 - val_loss: 0.9042 - val_accuracy: 0.8090\n",
      "Epoch 10/20\n",
      "16/16 [==============================] - 1s 53ms/step - loss: 0.2388 - accuracy: 0.9487 - val_loss: 0.9656 - val_accuracy: 0.7980\n",
      "Epoch 11/20\n",
      "16/16 [==============================] - 1s 56ms/step - loss: 0.2009 - accuracy: 0.9537 - val_loss: 0.9154 - val_accuracy: 0.8190\n",
      "Epoch 12/20\n",
      "16/16 [==============================] - 1s 50ms/step - loss: 0.1733 - accuracy: 0.9538 - val_loss: 0.9050 - val_accuracy: 0.8210\n",
      "Epoch 13/20\n",
      "16/16 [==============================] - 1s 50ms/step - loss: 0.1679 - accuracy: 0.9543 - val_loss: 0.9805 - val_accuracy: 0.8060\n",
      "Epoch 14/20\n",
      "16/16 [==============================] - 1s 47ms/step - loss: 0.1304 - accuracy: 0.9642 - val_loss: 0.9761 - val_accuracy: 0.8130\n",
      "Epoch 15/20\n",
      "16/16 [==============================] - 1s 53ms/step - loss: 0.1304 - accuracy: 0.9614 - val_loss: 1.0015 - val_accuracy: 0.8160\n",
      "Epoch 16/20\n",
      "16/16 [==============================] - 1s 49ms/step - loss: 0.1228 - accuracy: 0.9580 - val_loss: 1.0081 - val_accuracy: 0.8070\n",
      "Epoch 17/20\n",
      "16/16 [==============================] - 1s 49ms/step - loss: 0.1217 - accuracy: 0.9586 - val_loss: 1.0244 - val_accuracy: 0.8060\n",
      "Epoch 18/20\n",
      "16/16 [==============================] - 1s 45ms/step - loss: 0.1127 - accuracy: 0.9577 - val_loss: 1.0141 - val_accuracy: 0.8060\n",
      "Epoch 19/20\n",
      "16/16 [==============================] - 1s 50ms/step - loss: 0.1093 - accuracy: 0.9622 - val_loss: 1.1279 - val_accuracy: 0.7920\n",
      "Epoch 20/20\n",
      "16/16 [==============================] - 1s 45ms/step - loss: 0.1069 - accuracy: 0.9601 - val_loss: 1.0617 - val_accuracy: 0.8060\n"
     ]
    }
   ],
   "source": [
    "history = model.fit(partial_x_train,\n",
    "                    partial_y_train,\n",
    "                    epochs=20,\n",
    "                    batch_size=512,\n",
    "                    validation_data=(x_val, y_val))"
   ]
  },
  {
   "cell_type": "code",
   "execution_count": 15,
   "metadata": {},
   "outputs": [],
   "source": [
    "import matplotlib.pyplot as plt"
   ]
  },
  {
   "cell_type": "code",
   "execution_count": 16,
   "metadata": {},
   "outputs": [
    {
     "data": {
      "image/png": "[encoded data removed]",
      "text/plain": [
       "<Figure size 432x288 with 1 Axes>"
      ]
     },
     "metadata": {
      "needs_background": "light"
     },
     "output_type": "display_data"
    }
   ],
   "source": [
    "loss = history.history['loss']\n",
    "val_loss = history.history['val_loss']\n",
    "\n",
    "epochs = range(1, len(loss) + 1)\n",
    "\n",
    "plt.plot(epochs, loss, 'bo', label='Training loss')\n",
    "plt.plot(epochs, val_loss, 'b', label='Validation loss')\n",
    "plt.title('Training and validation loss')\n",
    "plt.xlabel('Epochs')\n",
    "plt.ylabel('Loss')\n",
    "plt.legend()\n",
    "\n",
    "plt.show()"
   ]
  },
  {
   "cell_type": "code",
   "execution_count": 18,
   "metadata": {},
   "outputs": [
    {
     "data": {
      "image/png": "[encoded data removed]",
      "text/plain": [
       "<Figure size 432x288 with 1 Axes>"
      ]
     },
     "metadata": {
      "needs_background": "light"
     },
     "output_type": "display_data"
    }
   ],
   "source": [
    "plt.clf()   # 그래프를 초기화\n",
    "\n",
    "acc = history.history['accuracy']\n",
    "val_acc = history.history['val_accuracy']\n",
    "\n",
    "plt.plot(epochs, acc, 'bo', label='Training accuracy')\n",
    "plt.plot(epochs, val_acc, 'b', label='Validation accuracy')\n",
    "plt.title('Training and validation accuracy')\n",
    "plt.xlabel('Epochs')\n",
    "plt.ylabel('Accuracy')\n",
    "plt.legend()\n",
    "\n",
    "plt.show()"
   ]
  },
  {
   "cell_type": "code",
   "execution_count": 20,
   "metadata": {},
   "outputs": [
    {
     "name": "stdout",
     "output_type": "stream",
     "text": [
      "Epoch 1/9\n",
      "16/16 [==============================] - 3s 88ms/step - loss: 3.2375 - accuracy: 0.4054 - val_loss: 1.8687 - val_accuracy: 0.6420\n",
      "Epoch 2/9\n",
      "16/16 [==============================] - 1s 45ms/step - loss: 1.5971 - accuracy: 0.6953 - val_loss: 1.3383 - val_accuracy: 0.7260\n",
      "Epoch 3/9\n",
      "16/16 [==============================] - 1s 48ms/step - loss: 1.1176 - accuracy: 0.7687 - val_loss: 1.1488 - val_accuracy: 0.7460\n",
      "Epoch 4/9\n",
      "16/16 [==============================] - 1s 46ms/step - loss: 0.8631 - accuracy: 0.8158 - val_loss: 1.0413 - val_accuracy: 0.7680\n",
      "Epoch 5/9\n",
      "16/16 [==============================] - 1s 51ms/step - loss: 0.6645 - accuracy: 0.8628 - val_loss: 0.9846 - val_accuracy: 0.7950\n",
      "Epoch 6/9\n",
      "16/16 [==============================] - 1s 47ms/step - loss: 0.5241 - accuracy: 0.8909 - val_loss: 0.9249 - val_accuracy: 0.8090\n",
      "Epoch 7/9\n",
      "16/16 [==============================] - 1s 55ms/step - loss: 0.4204 - accuracy: 0.9140 - val_loss: 0.9097 - val_accuracy: 0.8150\n",
      "Epoch 8/9\n",
      "16/16 [==============================] - 1s 54ms/step - loss: 0.3490 - accuracy: 0.9295 - val_loss: 0.9039 - val_accuracy: 0.8230\n",
      "Epoch 9/9\n",
      "16/16 [==============================] - 1s 47ms/step - loss: 0.2932 - accuracy: 0.9357 - val_loss: 0.8955 - val_accuracy: 0.8220\n",
      "71/71 [==============================] - 0s 4ms/step - loss: 0.9760 - accuracy: 0.7881\n"
     ]
    }
   ],
   "source": [
    "model = models.Sequential()\n",
    "model.add(layers.Dense(64, activation='relu', input_shape=(10000,)))\n",
    "model.add(layers.Dense(64, activation='relu'))\n",
    "model.add(layers.Dense(46, activation='softmax'))\n",
    "\n",
    "model.compile(optimizer='rmsprop',\n",
    "              loss='categorical_crossentropy',\n",
    "              metrics=['accuracy'])\n",
    "model.fit(partial_x_train,\n",
    "          partial_y_train,\n",
    "          epochs=9,\n",
    "          batch_size=512,\n",
    "          validation_data=(x_val, y_val))\n",
    "results = model.evaluate(x_test, one_hot_test_labels)"
   ]
  },
  {
   "cell_type": "code",
   "execution_count": 21,
   "metadata": {},
   "outputs": [
    {
     "data": {
      "text/plain": [
       "[0.975980818271637, 0.7880676984786987]"
      ]
     },
     "execution_count": 21,
     "metadata": {},
     "output_type": "execute_result"
    }
   ],
   "source": [
    "results"
   ]
  },
  {
   "cell_type": "code",
   "execution_count": 22,
   "metadata": {},
   "outputs": [
    {
     "data": {
      "text/plain": [
       "0.19056099732858414"
      ]
     },
     "execution_count": 22,
     "metadata": {},
     "output_type": "execute_result"
    }
   ],
   "source": [
    "import copy\n",
    "\n",
    "test_labels_copy = copy.copy(test_labels)\n",
    "np.random.shuffle(test_labels_copy)\n",
    "float(np.sum(np.array(test_labels) == np.array(test_labels_copy))) / len(test_labels)"
   ]
  },
  {
   "cell_type": "code",
   "execution_count": 23,
   "metadata": {},
   "outputs": [],
   "source": [
    "predictions = model.predict(x_test)"
   ]
  },
  {
   "cell_type": "code",
   "execution_count": 24,
   "metadata": {},
   "outputs": [
    {
     "data": {
      "text/plain": [
       "(46,)"
      ]
     },
     "execution_count": 24,
     "metadata": {},
     "output_type": "execute_result"
    }
   ],
   "source": [
    "predictions[0].shape"
   ]
  },
  {
   "cell_type": "code",
   "execution_count": 25,
   "metadata": {},
   "outputs": [
    {
     "data": {
      "text/plain": [
       "1.0000002"
      ]
     },
     "execution_count": 25,
     "metadata": {},
     "output_type": "execute_result"
    }
   ],
   "source": [
    "np.sum(predictions[0])"
   ]
  },
  {
   "cell_type": "code",
   "execution_count": 26,
   "metadata": {},
   "outputs": [
    {
     "data": {
      "text/plain": [
       "3"
      ]
     },
     "execution_count": 26,
     "metadata": {},
     "output_type": "execute_result"
    }
   ],
   "source": [
    "np.argmax(predictions[0])"
   ]
  },
  {
   "cell_type": "code",
   "execution_count": 27,
   "metadata": {},
   "outputs": [],
   "source": [
    "y_train = np.array(train_labels)\n",
    "y_test = np.array(test_labels)"
   ]
  },
  {
   "cell_type": "code",
   "execution_count": 28,
   "metadata": {},
   "outputs": [],
   "source": [
    "model.compile(optimizer='rmsprop', loss='sparse_categorical_crossentropy', metrics=['acc'])"
   ]
  },
  {
   "cell_type": "code",
   "execution_count": 29,
   "metadata": {},
   "outputs": [
    {
     "name": "stdout",
     "output_type": "stream",
     "text": [
      "Epoch 1/20\n",
      "63/63 [==============================] - 5s 41ms/step - loss: 3.5327 - accuracy: 0.0610 - val_loss: 2.6696 - val_accuracy: 0.1380\n",
      "Epoch 2/20\n",
      "63/63 [==============================] - 2s 28ms/step - loss: 2.2813 - accuracy: 0.4544 - val_loss: 1.6366 - val_accuracy: 0.6280\n",
      "Epoch 3/20\n",
      "63/63 [==============================] - 2s 28ms/step - loss: 1.4522 - accuracy: 0.6446 - val_loss: 1.4381 - val_accuracy: 0.6300\n",
      "Epoch 4/20\n",
      "63/63 [==============================] - 2s 27ms/step - loss: 1.2110 - accuracy: 0.6682 - val_loss: 1.3383 - val_accuracy: 0.6710\n",
      "Epoch 5/20\n",
      "63/63 [==============================] - 2s 26ms/step - loss: 1.0713 - accuracy: 0.7154 - val_loss: 1.2844 - val_accuracy: 0.6860\n",
      "Epoch 6/20\n",
      "63/63 [==============================] - 1s 23ms/step - loss: 0.9818 - accuracy: 0.7472 - val_loss: 1.2884 - val_accuracy: 0.6850\n",
      "Epoch 7/20\n",
      "63/63 [==============================] - 1s 23ms/step - loss: 0.8582 - accuracy: 0.7799 - val_loss: 1.2667 - val_accuracy: 0.7060\n",
      "Epoch 8/20\n",
      "63/63 [==============================] - 2s 24ms/step - loss: 0.7919 - accuracy: 0.8051 - val_loss: 1.2689 - val_accuracy: 0.7240\n",
      "Epoch 9/20\n",
      "63/63 [==============================] - 2s 24ms/step - loss: 0.7380 - accuracy: 0.8221 - val_loss: 1.2918 - val_accuracy: 0.7170\n",
      "Epoch 10/20\n",
      "63/63 [==============================] - 1s 22ms/step - loss: 0.6951 - accuracy: 0.8327 - val_loss: 1.3322 - val_accuracy: 0.7160\n",
      "Epoch 11/20\n",
      "63/63 [==============================] - 1s 22ms/step - loss: 0.6350 - accuracy: 0.8428 - val_loss: 1.3504 - val_accuracy: 0.7230\n",
      "Epoch 12/20\n",
      "63/63 [==============================] - 1s 23ms/step - loss: 0.5688 - accuracy: 0.8543 - val_loss: 1.3962 - val_accuracy: 0.7200\n",
      "Epoch 13/20\n",
      "63/63 [==============================] - 1s 22ms/step - loss: 0.5517 - accuracy: 0.8559 - val_loss: 1.4873 - val_accuracy: 0.7170\n",
      "Epoch 14/20\n",
      "63/63 [==============================] - 1s 21ms/step - loss: 0.5151 - accuracy: 0.8606 - val_loss: 1.5399 - val_accuracy: 0.7110\n",
      "Epoch 15/20\n",
      "63/63 [==============================] - 2s 29ms/step - loss: 0.4832 - accuracy: 0.8660 - val_loss: 1.5427 - val_accuracy: 0.7180\n",
      "Epoch 16/20\n",
      "63/63 [==============================] - 2s 28ms/step - loss: 0.4652 - accuracy: 0.8712 - val_loss: 1.6110 - val_accuracy: 0.7120\n",
      "Epoch 17/20\n",
      "63/63 [==============================] - 2s 26ms/step - loss: 0.4435 - accuracy: 0.8707 - val_loss: 1.6510 - val_accuracy: 0.7150\n",
      "Epoch 18/20\n",
      "63/63 [==============================] - 2s 26ms/step - loss: 0.4255 - accuracy: 0.8771 - val_loss: 1.6990 - val_accuracy: 0.7210\n",
      "Epoch 19/20\n",
      "63/63 [==============================] - 2s 25ms/step - loss: 0.4041 - accuracy: 0.8793 - val_loss: 1.7780 - val_accuracy: 0.7150\n",
      "Epoch 20/20\n",
      "63/63 [==============================] - 2s 26ms/step - loss: 0.3847 - accuracy: 0.8883 - val_loss: 1.8550 - val_accuracy: 0.7070\n"
     ]
    },
    {
     "data": {
      "text/plain": [
       "<tensorflow.python.keras.callbacks.History at 0x26956aa23a0>"
      ]
     },
     "execution_count": 29,
     "metadata": {},
     "output_type": "execute_result"
    }
   ],
   "source": [
    "model = models.Sequential()\n",
    "model.add(layers.Dense(64, activation='relu', input_shape=(10000,)))\n",
    "model.add(layers.Dense(4, activation='relu'))\n",
    "model.add(layers.Dense(46, activation='softmax'))\n",
    "\n",
    "model.compile(optimizer='rmsprop',\n",
    "              loss='categorical_crossentropy',\n",
    "              metrics=['accuracy'])\n",
    "model.fit(partial_x_train,\n",
    "          partial_y_train,\n",
    "          epochs=20,\n",
    "          batch_size=128,\n",
    "          validation_data=(x_val, y_val))"
   ]
  },
  {
   "cell_type": "markdown",
   "metadata": {},
   "source": [
    "## 과대적합과 과소적합"
   ]
  },
  {
   "cell_type": "code",
   "execution_count": 30,
   "metadata": {},
   "outputs": [
    {
     "data": {
      "text/plain": [
       "'2.4.3'"
      ]
     },
     "execution_count": 30,
     "metadata": {},
     "output_type": "execute_result"
    }
   ],
   "source": [
    "import keras\n",
    "keras.__version__"
   ]
  },
  {
   "cell_type": "code",
   "execution_count": 31,
   "metadata": {},
   "outputs": [],
   "source": [
    "from keras.datasets import imdb\n",
    "import numpy as np\n",
    "\n",
    "(train_data, train_labels), (test_data, test_labels) = imdb.load_data(num_words=10000)"
   ]
  },
  {
   "cell_type": "code",
   "execution_count": 32,
   "metadata": {},
   "outputs": [],
   "source": [
    "def vectorize_sequences(sequences, dimension=10000):\n",
    "    results = np.zeros((len(sequences), dimension))\n",
    "    for i, sequence in enumerate(sequences):\n",
    "        results[i, sequence] = 1.  \n",
    "    return results\n",
    "\n",
    "# 훈련 데이터를 벡터로 변환\n",
    "x_train = vectorize_sequences(train_data)\n",
    "# 테스트 데이터를 벡터로 변환\n",
    "x_test = vectorize_sequences(test_data)\n",
    "# 레이블을 벡터로 변환\n",
    "y_train = np.asarray(train_labels).astype('float32')\n",
    "y_test = np.asarray(test_labels).astype('float32')"
   ]
  },
  {
   "cell_type": "code",
   "execution_count": 33,
   "metadata": {},
   "outputs": [],
   "source": [
    "from keras import models\n",
    "from keras import layers\n",
    "\n",
    "original_model = models.Sequential()\n",
    "original_model.add(layers.Dense(16, activation='relu', input_shape=(10000,)))\n",
    "original_model.add(layers.Dense(16, activation='relu'))\n",
    "original_model.add(layers.Dense(1, activation='sigmoid'))\n",
    "\n",
    "original_model.compile(optimizer='rmsprop',\n",
    "                       loss='binary_crossentropy',\n",
    "                       metrics=['acc'])"
   ]
  },
  {
   "cell_type": "code",
   "execution_count": 34,
   "metadata": {},
   "outputs": [],
   "source": [
    "smaller_model = models.Sequential()\n",
    "smaller_model.add(layers.Dense(6, activation='relu', input_shape=(10000,)))\n",
    "smaller_model.add(layers.Dense(6, activation='relu'))\n",
    "smaller_model.add(layers.Dense(1, activation='sigmoid'))\n",
    "\n",
    "smaller_model.compile(optimizer='rmsprop',\n",
    "                      loss='binary_crossentropy',\n",
    "                      metrics=['acc'])"
   ]
  },
  {
   "cell_type": "code",
   "execution_count": 35,
   "metadata": {},
   "outputs": [
    {
     "name": "stdout",
     "output_type": "stream",
     "text": [
      "Epoch 1/20\n",
      "49/49 [==============================] - 16s 282ms/step - loss: 0.5274 - acc: 0.7575 - val_loss: 0.3286 - val_acc: 0.8788\n",
      "Epoch 2/20\n",
      "49/49 [==============================] - 3s 58ms/step - loss: 0.2606 - acc: 0.9129 - val_loss: 0.2872 - val_acc: 0.8860\n",
      "Epoch 3/20\n",
      "49/49 [==============================] - 3s 54ms/step - loss: 0.1977 - acc: 0.9311 - val_loss: 0.2881 - val_acc: 0.8846\n",
      "Epoch 4/20\n",
      "49/49 [==============================] - 3s 54ms/step - loss: 0.1614 - acc: 0.9431 - val_loss: 0.3135 - val_acc: 0.8750\n",
      "Epoch 5/20\n",
      "49/49 [==============================] - 3s 54ms/step - loss: 0.1386 - acc: 0.9530 - val_loss: 0.3279 - val_acc: 0.8746\n",
      "Epoch 6/20\n",
      "49/49 [==============================] - 2s 45ms/step - loss: 0.1191 - acc: 0.9604 - val_loss: 0.3362 - val_acc: 0.8750\n",
      "Epoch 7/20\n",
      "49/49 [==============================] - 2s 46ms/step - loss: 0.0976 - acc: 0.9692 - val_loss: 0.3629 - val_acc: 0.8719\n",
      "Epoch 8/20\n",
      "49/49 [==============================] - 2s 46ms/step - loss: 0.0859 - acc: 0.9728 - val_loss: 0.3902 - val_acc: 0.8690\n",
      "Epoch 9/20\n",
      "49/49 [==============================] - 2s 46ms/step - loss: 0.0704 - acc: 0.9795 - val_loss: 0.4135 - val_acc: 0.8657\n",
      "Epoch 10/20\n",
      "49/49 [==============================] - 2s 48ms/step - loss: 0.0605 - acc: 0.9828 - val_loss: 0.4485 - val_acc: 0.8634\n",
      "Epoch 11/20\n",
      "49/49 [==============================] - 2s 45ms/step - loss: 0.0479 - acc: 0.9871 - val_loss: 0.4764 - val_acc: 0.8610\n",
      "Epoch 12/20\n",
      "49/49 [==============================] - 2s 47ms/step - loss: 0.0409 - acc: 0.9897 - val_loss: 0.5075 - val_acc: 0.8588\n",
      "Epoch 13/20\n",
      "49/49 [==============================] - 2s 46ms/step - loss: 0.0343 - acc: 0.9911 - val_loss: 0.5502 - val_acc: 0.8570\n",
      "Epoch 14/20\n",
      "49/49 [==============================] - 2s 44ms/step - loss: 0.0273 - acc: 0.9930 - val_loss: 0.7425 - val_acc: 0.8310\n",
      "Epoch 15/20\n",
      "49/49 [==============================] - 2s 43ms/step - loss: 0.0251 - acc: 0.9935 - val_loss: 0.6187 - val_acc: 0.8547\n",
      "Epoch 16/20\n",
      "49/49 [==============================] - 2s 44ms/step - loss: 0.0162 - acc: 0.9974 - val_loss: 0.6759 - val_acc: 0.8501\n",
      "Epoch 17/20\n",
      "49/49 [==============================] - 2s 44ms/step - loss: 0.0164 - acc: 0.9962 - val_loss: 0.7022 - val_acc: 0.8522\n",
      "Epoch 18/20\n",
      "49/49 [==============================] - 2s 42ms/step - loss: 0.0111 - acc: 0.9978 - val_loss: 0.7458 - val_acc: 0.8513\n",
      "Epoch 19/20\n",
      "49/49 [==============================] - 2s 43ms/step - loss: 0.0077 - acc: 0.9991 - val_loss: 0.7982 - val_acc: 0.8491 0s - loss: 0.0072 - acc: \n",
      "Epoch 20/20\n",
      "49/49 [==============================] - 2s 42ms/step - loss: 0.0062 - acc: 0.9993 - val_loss: 0.8222 - val_acc: 0.8497\n"
     ]
    }
   ],
   "source": [
    "original_hist = original_model.fit(x_train, y_train,\n",
    "                                   epochs=20,\n",
    "                                   batch_size=512,\n",
    "                                   validation_data=(x_test, y_test))"
   ]
  },
  {
   "cell_type": "code",
   "execution_count": 36,
   "metadata": {},
   "outputs": [
    {
     "name": "stdout",
     "output_type": "stream",
     "text": [
      "Epoch 1/20\n",
      "49/49 [==============================] - 18s 321ms/step - loss: 0.6448 - acc: 0.5732 - val_loss: 0.5563 - val_acc: 0.7618\n",
      "Epoch 2/20\n",
      "49/49 [==============================] - 2s 34ms/step - loss: 0.5253 - acc: 0.8067 - val_loss: 0.4810 - val_acc: 0.8478\n",
      "Epoch 3/20\n",
      "49/49 [==============================] - 2s 33ms/step - loss: 0.4323 - acc: 0.8854 - val_loss: 0.3845 - val_acc: 0.8800\n",
      "Epoch 4/20\n",
      "49/49 [==============================] - 2s 33ms/step - loss: 0.3154 - acc: 0.9211 - val_loss: 0.3192 - val_acc: 0.8855\n",
      "Epoch 5/20\n",
      "49/49 [==============================] - 2s 34ms/step - loss: 0.2344 - acc: 0.9241 - val_loss: 0.2844 - val_acc: 0.8893\n",
      "Epoch 6/20\n",
      "49/49 [==============================] - 2s 33ms/step - loss: 0.1935 - acc: 0.9352 - val_loss: 0.2877 - val_acc: 0.8863\n",
      "Epoch 7/20\n",
      "49/49 [==============================] - 2s 35ms/step - loss: 0.1669 - acc: 0.9456 - val_loss: 0.2862 - val_acc: 0.8859\n",
      "Epoch 8/20\n",
      "49/49 [==============================] - 2s 36ms/step - loss: 0.1469 - acc: 0.9533 - val_loss: 0.2982 - val_acc: 0.8829\n",
      "Epoch 9/20\n",
      "49/49 [==============================] - 2s 36ms/step - loss: 0.1318 - acc: 0.9594 - val_loss: 0.3051 - val_acc: 0.8814\n",
      "Epoch 10/20\n",
      "49/49 [==============================] - 2s 35ms/step - loss: 0.1192 - acc: 0.9626 - val_loss: 0.3198 - val_acc: 0.8788\n",
      "Epoch 11/20\n",
      "49/49 [==============================] - 2s 35ms/step - loss: 0.1063 - acc: 0.9666 - val_loss: 0.3353 - val_acc: 0.8762\n",
      "Epoch 12/20\n",
      "49/49 [==============================] - 2s 33ms/step - loss: 0.0924 - acc: 0.9732 - val_loss: 0.3462 - val_acc: 0.8762\n",
      "Epoch 13/20\n",
      "49/49 [==============================] - 2s 35ms/step - loss: 0.0904 - acc: 0.9743 - val_loss: 0.3618 - val_acc: 0.8736\n",
      "Epoch 14/20\n",
      "49/49 [==============================] - 2s 36ms/step - loss: 0.0810 - acc: 0.9764 - val_loss: 0.4055 - val_acc: 0.8659\n",
      "Epoch 15/20\n",
      "49/49 [==============================] - 2s 37ms/step - loss: 0.0722 - acc: 0.9802 - val_loss: 0.4115 - val_acc: 0.8665\n",
      "Epoch 16/20\n",
      "49/49 [==============================] - 2s 34ms/step - loss: 0.0664 - acc: 0.9810 - val_loss: 0.4183 - val_acc: 0.8665\n",
      "Epoch 17/20\n",
      "49/49 [==============================] - 2s 32ms/step - loss: 0.0650 - acc: 0.9817 - val_loss: 0.4337 - val_acc: 0.8661\n",
      "Epoch 18/20\n",
      "49/49 [==============================] - 2s 33ms/step - loss: 0.0539 - acc: 0.9872 - val_loss: 0.4517 - val_acc: 0.8645\n",
      "Epoch 19/20\n",
      "49/49 [==============================] - 2s 33ms/step - loss: 0.0526 - acc: 0.9877 - val_loss: 0.4927 - val_acc: 0.8592\n",
      "Epoch 20/20\n",
      "49/49 [==============================] - 2s 31ms/step - loss: 0.0473 - acc: 0.9892 - val_loss: 0.4969 - val_acc: 0.8609\n"
     ]
    }
   ],
   "source": [
    "smaller_model_hist = smaller_model.fit(x_train, y_train,\n",
    "                                       epochs=20,\n",
    "                                       batch_size=512,\n",
    "                                       validation_data=(x_test, y_test))"
   ]
  },
  {
   "cell_type": "code",
   "execution_count": 37,
   "metadata": {},
   "outputs": [],
   "source": [
    "epochs = range(1, 21)\n",
    "original_val_loss = original_hist.history['val_loss']\n",
    "smaller_model_val_loss = smaller_model_hist.history['val_loss']"
   ]
  },
  {
   "cell_type": "code",
   "execution_count": 38,
   "metadata": {},
   "outputs": [],
   "source": [
    "import matplotlib.pyplot as plt"
   ]
  },
  {
   "cell_type": "code",
   "execution_count": 39,
   "metadata": {},
   "outputs": [
    {
     "data": {
      "image/png": "[encoded data removed]",
      "text/plain": [
       "<Figure size 432x288 with 1 Axes>"
      ]
     },
     "metadata": {
      "needs_background": "light"
     },
     "output_type": "display_data"
    }
   ],
   "source": [
    "plt.plot(epochs, original_val_loss, 'b+', label='Original model')\n",
    "plt.plot(epochs, smaller_model_val_loss, 'bo', label='Smaller model')\n",
    "plt.xlabel('Epochs')\n",
    "plt.ylabel('Validation loss')\n",
    "plt.legend()\n",
    "\n",
    "plt.show()"
   ]
  },
  {
   "cell_type": "code",
   "execution_count": 40,
   "metadata": {},
   "outputs": [],
   "source": [
    "bigger_model = models.Sequential()\n",
    "bigger_model.add(layers.Dense(1024, activation='relu', input_shape=(10000,)))\n",
    "bigger_model.add(layers.Dense(1024, activation='relu'))\n",
    "bigger_model.add(layers.Dense(1, activation='sigmoid'))\n",
    "\n",
    "bigger_model.compile(optimizer='rmsprop',\n",
    "                     loss='binary_crossentropy',\n",
    "                     metrics=['acc'])"
   ]
  },
  {
   "cell_type": "code",
   "execution_count": 41,
   "metadata": {},
   "outputs": [
    {
     "name": "stdout",
     "output_type": "stream",
     "text": [
      "Epoch 1/20\n",
      "49/49 [==============================] - 39s 653ms/step - loss: 0.7654 - acc: 0.7157 - val_loss: 0.3768 - val_acc: 0.8282\n",
      "Epoch 2/20\n",
      "49/49 [==============================] - 19s 399ms/step - loss: 0.2156 - acc: 0.9138 - val_loss: 0.3178 - val_acc: 0.8750\n",
      "Epoch 3/20\n",
      "49/49 [==============================] - 19s 399ms/step - loss: 0.1260 - acc: 0.9543 - val_loss: 0.4885 - val_acc: 0.8327\n",
      "Epoch 4/20\n",
      "49/49 [==============================] - 20s 400ms/step - loss: 0.0581 - acc: 0.9852 - val_loss: 0.6195 - val_acc: 0.8567\n",
      "Epoch 5/20\n",
      "49/49 [==============================] - 19s 396ms/step - loss: 0.0149 - acc: 0.9977 - val_loss: 0.4178 - val_acc: 0.8797\n",
      "Epoch 6/20\n",
      "49/49 [==============================] - 19s 397ms/step - loss: 0.0022 - acc: 1.0000 - val_loss: 0.6524 - val_acc: 0.8835\n",
      "Epoch 7/20\n",
      "49/49 [==============================] - 20s 407ms/step - loss: 0.0043 - acc: 0.9997 - val_loss: 2.6841 - val_acc: 0.7301\n",
      "Epoch 8/20\n",
      "49/49 [==============================] - 20s 410ms/step - loss: 0.0731 - acc: 0.9886 - val_loss: 0.7300 - val_acc: 0.8820\n",
      "Epoch 9/20\n",
      "49/49 [==============================] - 20s 400ms/step - loss: 2.7812e-05 - acc: 1.0000 - val_loss: 0.8389 - val_acc: 0.8854\n",
      "Epoch 10/20\n",
      "49/49 [==============================] - 20s 412ms/step - loss: 4.8249e-06 - acc: 1.0000 - val_loss: 0.9824 - val_acc: 0.8841\n",
      "Epoch 11/20\n",
      "49/49 [==============================] - 20s 403ms/step - loss: 8.1904e-07 - acc: 1.0000 - val_loss: 1.1223 - val_acc: 0.8832\n",
      "Epoch 12/20\n",
      "49/49 [==============================] - 20s 418ms/step - loss: 1.6140e-07 - acc: 1.0000 - val_loss: 1.2404 - val_acc: 0.8843\n",
      "Epoch 13/20\n",
      "49/49 [==============================] - 19s 398ms/step - loss: 3.8351e-08 - acc: 1.0000 - val_loss: 1.3235 - val_acc: 0.8849\n",
      "Epoch 14/20\n",
      "49/49 [==============================] - 20s 406ms/step - loss: 1.6030e-08 - acc: 1.0000 - val_loss: 1.3706 - val_acc: 0.8844\n",
      "Epoch 15/20\n",
      "49/49 [==============================] - 20s 403ms/step - loss: 9.7922e-09 - acc: 1.0000 - val_loss: 1.3992 - val_acc: 0.8843\n",
      "Epoch 16/20\n",
      "49/49 [==============================] - 19s 392ms/step - loss: 7.1276e-09 - acc: 1.0000 - val_loss: 1.4192 - val_acc: 0.8847\n",
      "Epoch 17/20\n",
      "49/49 [==============================] - 20s 409ms/step - loss: 5.3067e-09 - acc: 1.0000 - val_loss: 1.4356 - val_acc: 0.8844\n",
      "Epoch 18/20\n",
      "49/49 [==============================] - 20s 411ms/step - loss: 4.3757e-09 - acc: 1.0000 - val_loss: 1.4502 - val_acc: 0.8840\n",
      "Epoch 19/20\n",
      "49/49 [==============================] - 20s 412ms/step - loss: 3.8530e-09 - acc: 1.0000 - val_loss: 1.4608 - val_acc: 0.8841\n",
      "Epoch 20/20\n",
      "49/49 [==============================] - 20s 402ms/step - loss: 3.7048e-09 - acc: 1.0000 - val_loss: 1.4702 - val_acc: 0.8841\n"
     ]
    }
   ],
   "source": [
    "bigger_model_hist = bigger_model.fit(x_train, y_train,\n",
    "                                     epochs=20,\n",
    "                                     batch_size=512,\n",
    "                                     validation_data=(x_test, y_test))"
   ]
  },
  {
   "cell_type": "code",
   "execution_count": 42,
   "metadata": {},
   "outputs": [
    {
     "data": {
      "image/png": "[encoded data removed]",
      "text/plain": [
       "<Figure size 432x288 with 1 Axes>"
      ]
     },
     "metadata": {
      "needs_background": "light"
     },
     "output_type": "display_data"
    }
   ],
   "source": [
    "bigger_model_val_loss = bigger_model_hist.history['val_loss']\n",
    "\n",
    "plt.plot(epochs, original_val_loss, 'b+', label='Original model')\n",
    "plt.plot(epochs, bigger_model_val_loss, 'bo', label='Bigger model')\n",
    "plt.xlabel('Epochs')\n",
    "plt.ylabel('Validation loss')\n",
    "plt.legend()\n",
    "\n",
    "plt.show()"
   ]
  },
  {
   "cell_type": "code",
   "execution_count": 43,
   "metadata": {},
   "outputs": [
    {
     "data": {
      "image/png": "[encoded data removed]",
      "text/plain": [
       "<Figure size 432x288 with 1 Axes>"
      ]
     },
     "metadata": {
      "needs_background": "light"
     },
     "output_type": "display_data"
    }
   ],
   "source": [
    "original_train_loss = original_hist.history['loss']\n",
    "bigger_model_train_loss = bigger_model_hist.history['loss']\n",
    "\n",
    "plt.plot(epochs, original_train_loss, 'b+', label='Original model')\n",
    "plt.plot(epochs, bigger_model_train_loss, 'bo', label='Bigger model')\n",
    "plt.xlabel('Epochs')\n",
    "plt.ylabel('Training loss')\n",
    "plt.legend()\n",
    "\n",
    "plt.show()"
   ]
  },
  {
   "cell_type": "code",
   "execution_count": 45,
   "metadata": {},
   "outputs": [],
   "source": [
    "\n",
    "from keras import regularizers\n",
    "\n",
    "l2_model = models.Sequential()\n",
    "l2_model.add(layers.Dense(16, kernel_regularizer=regularizers.l2(0.001),\n",
    "                          activation='relu', input_shape=(10000,)))\n",
    "l2_model.add(layers.Dense(16, kernel_regularizer=regularizers.l2(0.001),\n",
    "                          activation='relu'))\n",
    "l2_model.add(layers.Dense(1, activation='sigmoid'))\n",
    "l2_model.compile(optimizer='rmsprop',\n",
    "                 loss='binary_crossentropy',\n",
    "                 metrics=['acc'])"
   ]
  },
  {
   "cell_type": "code",
   "execution_count": 46,
   "metadata": {},
   "outputs": [
    {
     "name": "stdout",
     "output_type": "stream",
     "text": [
      "Epoch 1/20\n",
      "49/49 [==============================] - 17s 296ms/step - loss: 0.6062 - acc: 0.7376 - val_loss: 0.4024 - val_acc: 0.8691\n",
      "Epoch 2/20\n",
      "49/49 [==============================] - 2s 37ms/step - loss: 0.3434 - acc: 0.9007 - val_loss: 0.3440 - val_acc: 0.8862\n",
      "Epoch 3/20\n",
      "49/49 [==============================] - 2s 38ms/step - loss: 0.2760 - acc: 0.9229 - val_loss: 0.3494 - val_acc: 0.8789\n",
      "Epoch 4/20\n",
      "49/49 [==============================] - 2s 37ms/step - loss: 0.2565 - acc: 0.9287 - val_loss: 0.3389 - val_acc: 0.8849\n",
      "Epoch 5/20\n",
      "49/49 [==============================] - 2s 35ms/step - loss: 0.2392 - acc: 0.9368 - val_loss: 0.3419 - val_acc: 0.8848\n",
      "Epoch 6/20\n",
      "49/49 [==============================] - 2s 36ms/step - loss: 0.2308 - acc: 0.9400 - val_loss: 0.3861 - val_acc: 0.8689\n",
      "Epoch 7/20\n",
      "49/49 [==============================] - 2s 37ms/step - loss: 0.2253 - acc: 0.9382 - val_loss: 0.3559 - val_acc: 0.8793\n",
      "Epoch 8/20\n",
      "49/49 [==============================] - 2s 35ms/step - loss: 0.2138 - acc: 0.9476 - val_loss: 0.3694 - val_acc: 0.8762\n",
      "Epoch 9/20\n",
      "49/49 [==============================] - 2s 34ms/step - loss: 0.2113 - acc: 0.9479 - val_loss: 0.3780 - val_acc: 0.8737\n",
      "Epoch 10/20\n",
      "49/49 [==============================] - 2s 35ms/step - loss: 0.2085 - acc: 0.9479 - val_loss: 0.4233 - val_acc: 0.8595\n",
      "Epoch 11/20\n",
      "49/49 [==============================] - 2s 36ms/step - loss: 0.2067 - acc: 0.9464 - val_loss: 0.4046 - val_acc: 0.8652\n",
      "Epoch 12/20\n",
      "49/49 [==============================] - 2s 36ms/step - loss: 0.2067 - acc: 0.9454 - val_loss: 0.4065 - val_acc: 0.8686\n",
      "Epoch 13/20\n",
      "49/49 [==============================] - 2s 36ms/step - loss: 0.1966 - acc: 0.9514 - val_loss: 0.4010 - val_acc: 0.8713\n",
      "Epoch 14/20\n",
      "49/49 [==============================] - 2s 38ms/step - loss: 0.1954 - acc: 0.9520 - val_loss: 0.4606 - val_acc: 0.8536\n",
      "Epoch 15/20\n",
      "49/49 [==============================] - 2s 35ms/step - loss: 0.1941 - acc: 0.9525 - val_loss: 0.3965 - val_acc: 0.8726\n",
      "Epoch 16/20\n",
      "49/49 [==============================] - 2s 35ms/step - loss: 0.1872 - acc: 0.9557 - val_loss: 0.4026 - val_acc: 0.8718\n",
      "Epoch 17/20\n",
      "49/49 [==============================] - 2s 37ms/step - loss: 0.1933 - acc: 0.9505 - val_loss: 0.4073 - val_acc: 0.8698\n",
      "Epoch 18/20\n",
      "49/49 [==============================] - 2s 36ms/step - loss: 0.1869 - acc: 0.9531 - val_loss: 0.4138 - val_acc: 0.8690\n",
      "Epoch 19/20\n",
      "49/49 [==============================] - 2s 35ms/step - loss: 0.1811 - acc: 0.9578 - val_loss: 0.4182 - val_acc: 0.8704\n",
      "Epoch 20/20\n",
      "49/49 [==============================] - 2s 34ms/step - loss: 0.1817 - acc: 0.9569 - val_loss: 0.4902 - val_acc: 0.8498\n"
     ]
    }
   ],
   "source": [
    "l2_model_hist = l2_model.fit(x_train, y_train,\n",
    "                             epochs=20,\n",
    "                             batch_size=512,\n",
    "                             validation_data=(x_test, y_test))"
   ]
  },
  {
   "cell_type": "code",
   "execution_count": 47,
   "metadata": {},
   "outputs": [
    {
     "data": {
      "image/png": "[encoded data removed]",
      "text/plain": [
       "<Figure size 432x288 with 1 Axes>"
      ]
     },
     "metadata": {
      "needs_background": "light"
     },
     "output_type": "display_data"
    }
   ],
   "source": [
    "l2_model_val_loss = l2_model_hist.history['val_loss']\n",
    "\n",
    "plt.plot(epochs, original_val_loss, 'b+', label='Original model')\n",
    "plt.plot(epochs, l2_model_val_loss, 'bo', label='L2-regularized model')\n",
    "plt.xlabel('Epochs')\n",
    "plt.ylabel('Validation loss')\n",
    "plt.legend()\n",
    "\n",
    "plt.show()"
   ]
  },
  {
   "cell_type": "code",
   "execution_count": 48,
   "metadata": {},
   "outputs": [
    {
     "data": {
      "text/plain": [
       "<tensorflow.python.keras.regularizers.L1L2 at 0x2695eae2fd0>"
      ]
     },
     "execution_count": 48,
     "metadata": {},
     "output_type": "execute_result"
    }
   ],
   "source": [
    "from keras import regularizers\n",
    "\n",
    "regularizers.l1(0.001)\n",
    "\n",
    "regularizers.l1_l2(l1=0.001, l2=0.001)"
   ]
  },
  {
   "cell_type": "code",
   "execution_count": 49,
   "metadata": {},
   "outputs": [],
   "source": [
    "l1_model = models.Sequential()\n",
    "l1_model.add(layers.Dense(16, kernel_regularizer=regularizers.l1(0.0001),\n",
    "                          activation='relu', input_shape=(10000,)))\n",
    "l1_model.add(layers.Dense(16, kernel_regularizer=regularizers.l1(0.0001),\n",
    "                          activation='relu'))\n",
    "l1_model.add(layers.Dense(1, activation='sigmoid'))"
   ]
  },
  {
   "cell_type": "code",
   "execution_count": 50,
   "metadata": {},
   "outputs": [],
   "source": [
    "l1_model.compile(optimizer='rmsprop',\n",
    "                 loss='binary_crossentropy',\n",
    "                 metrics=['acc'])"
   ]
  },
  {
   "cell_type": "code",
   "execution_count": 51,
   "metadata": {},
   "outputs": [
    {
     "name": "stdout",
     "output_type": "stream",
     "text": [
      "Epoch 1/20\n",
      "49/49 [==============================] - 20s 359ms/step - loss: 0.6659 - acc: 0.7437 - val_loss: 0.4360 - val_acc: 0.8698\n",
      "Epoch 2/20\n",
      "49/49 [==============================] - 3s 58ms/step - loss: 0.3906 - acc: 0.8928 - val_loss: 0.3861 - val_acc: 0.8804\n",
      "Epoch 3/20\n",
      "49/49 [==============================] - 3s 52ms/step - loss: 0.3338 - acc: 0.9083 - val_loss: 0.4147 - val_acc: 0.8624\n",
      "Epoch 4/20\n",
      "49/49 [==============================] - 2s 50ms/step - loss: 0.3165 - acc: 0.9107 - val_loss: 0.3598 - val_acc: 0.8880\n",
      "Epoch 5/20\n",
      "49/49 [==============================] - 2s 50ms/step - loss: 0.2966 - acc: 0.9221 - val_loss: 0.3691 - val_acc: 0.8825\n",
      "Epoch 6/20\n",
      "49/49 [==============================] - 2s 46ms/step - loss: 0.2996 - acc: 0.9179 - val_loss: 0.3732 - val_acc: 0.8809\n",
      "Epoch 7/20\n",
      "49/49 [==============================] - 2s 45ms/step - loss: 0.2944 - acc: 0.9189 - val_loss: 0.3693 - val_acc: 0.8826\n",
      "Epoch 8/20\n",
      "49/49 [==============================] - 2s 45ms/step - loss: 0.2857 - acc: 0.9253 - val_loss: 0.3674 - val_acc: 0.8851\n",
      "Epoch 9/20\n",
      "49/49 [==============================] - 2s 45ms/step - loss: 0.2724 - acc: 0.9301 - val_loss: 0.3731 - val_acc: 0.8821\n",
      "Epoch 10/20\n",
      "49/49 [==============================] - 2s 47ms/step - loss: 0.2726 - acc: 0.9304 - val_loss: 0.3783 - val_acc: 0.8810\n",
      "Epoch 11/20\n",
      "49/49 [==============================] - 2s 44ms/step - loss: 0.2674 - acc: 0.9330 - val_loss: 0.3787 - val_acc: 0.8811\n",
      "Epoch 12/20\n",
      "49/49 [==============================] - 2s 47ms/step - loss: 0.2626 - acc: 0.9333 - val_loss: 0.3807 - val_acc: 0.8811\n",
      "Epoch 13/20\n",
      "49/49 [==============================] - 2s 48ms/step - loss: 0.2559 - acc: 0.9361 - val_loss: 0.4067 - val_acc: 0.8705\n",
      "Epoch 14/20\n",
      "49/49 [==============================] - 2s 43ms/step - loss: 0.2516 - acc: 0.9388 - val_loss: 0.3849 - val_acc: 0.8808\n",
      "Epoch 15/20\n",
      "49/49 [==============================] - 2s 37ms/step - loss: 0.2461 - acc: 0.9416 - val_loss: 0.3872 - val_acc: 0.8809\n",
      "Epoch 16/20\n",
      "49/49 [==============================] - 2s 42ms/step - loss: 0.2405 - acc: 0.9440 - val_loss: 0.3968 - val_acc: 0.8768\n",
      "Epoch 17/20\n",
      "49/49 [==============================] - 2s 42ms/step - loss: 0.2418 - acc: 0.9440 - val_loss: 0.3943 - val_acc: 0.8788\n",
      "Epoch 18/20\n",
      "49/49 [==============================] - 2s 46ms/step - loss: 0.2340 - acc: 0.9462 - val_loss: 0.3990 - val_acc: 0.8782\n",
      "Epoch 19/20\n",
      "49/49 [==============================] - 2s 46ms/step - loss: 0.2226 - acc: 0.9518 - val_loss: 0.4612 - val_acc: 0.8621\n",
      "Epoch 20/20\n",
      "49/49 [==============================] - 2s 44ms/step - loss: 0.2309 - acc: 0.9440 - val_loss: 0.4138 - val_acc: 0.8724\n"
     ]
    }
   ],
   "source": [
    "l1_model_hist = l1_model.fit(x_train, y_train,\n",
    "                             epochs=20,\n",
    "                             batch_size=512,\n",
    "                             validation_data=(x_test, y_test))"
   ]
  },
  {
   "cell_type": "code",
   "execution_count": 52,
   "metadata": {},
   "outputs": [
    {
     "data": {
      "image/png": "[encoded data removed]",
      "text/plain": [
       "<Figure size 432x288 with 1 Axes>"
      ]
     },
     "metadata": {
      "needs_background": "light"
     },
     "output_type": "display_data"
    }
   ],
   "source": [
    "l1_model_val_loss = l1_model_hist.history['val_loss']\n",
    "\n",
    "plt.plot(epochs, original_val_loss, 'b+', label='Original model')\n",
    "plt.plot(epochs, l1_model_val_loss, 'bo', label='L1-regularized model')\n",
    "plt.xlabel('Epochs')\n",
    "plt.ylabel('Validation loss')\n",
    "plt.legend()\n",
    "\n",
    "plt.show()"
   ]
  },
  {
   "cell_type": "code",
   "execution_count": 53,
   "metadata": {},
   "outputs": [],
   "source": [
    "l1l2_model = models.Sequential()\n",
    "l1l2_model.add(layers.Dense(16, kernel_regularizer=regularizers.l1_l2(l1=0.0001, l2=0.0001),\n",
    "                            activation='relu', input_shape=(10000,)))\n",
    "l1l2_model.add(layers.Dense(16, kernel_regularizer=regularizers.l1_l2(l1=0.0001, l2=0.0001),\n",
    "                            activation='relu'))\n",
    "l1l2_model.add(layers.Dense(1, activation='sigmoid'))"
   ]
  },
  {
   "cell_type": "code",
   "execution_count": 54,
   "metadata": {},
   "outputs": [],
   "source": [
    "l1l2_model.compile(optimizer='rmsprop',\n",
    "                   loss='binary_crossentropy',\n",
    "                   metrics=['acc'])"
   ]
  },
  {
   "cell_type": "code",
   "execution_count": 55,
   "metadata": {},
   "outputs": [
    {
     "name": "stdout",
     "output_type": "stream",
     "text": [
      "Epoch 1/20\n",
      "49/49 [==============================] - 20s 229ms/step - loss: 0.6733 - acc: 0.7488 - val_loss: 0.4273 - val_acc: 0.8789 - loss: 0.7\n",
      "Epoch 2/20\n",
      "49/49 [==============================] - 2s 37ms/step - loss: 0.3851 - acc: 0.8979 - val_loss: 0.3966 - val_acc: 0.8749\n",
      "Epoch 3/20\n",
      "49/49 [==============================] - 2s 43ms/step - loss: 0.3363 - acc: 0.9082 - val_loss: 0.3613 - val_acc: 0.8887\n",
      "Epoch 4/20\n",
      "49/49 [==============================] - 2s 41ms/step - loss: 0.3167 - acc: 0.9117 - val_loss: 0.3730 - val_acc: 0.8821\n",
      "Epoch 5/20\n",
      "49/49 [==============================] - 2s 41ms/step - loss: 0.2981 - acc: 0.9219 - val_loss: 0.3695 - val_acc: 0.8844\n",
      "Epoch 6/20\n",
      "49/49 [==============================] - 2s 43ms/step - loss: 0.2917 - acc: 0.9222 - val_loss: 0.3841 - val_acc: 0.8765\n",
      "Epoch 7/20\n",
      "49/49 [==============================] - 2s 40ms/step - loss: 0.2911 - acc: 0.9239 - val_loss: 0.3800 - val_acc: 0.8804\n",
      "Epoch 8/20\n",
      "49/49 [==============================] - 2s 39ms/step - loss: 0.2784 - acc: 0.9287 - val_loss: 0.3754 - val_acc: 0.8817\n",
      "Epoch 9/20\n",
      "49/49 [==============================] - 2s 36ms/step - loss: 0.2709 - acc: 0.9316 - val_loss: 0.3734 - val_acc: 0.8828\n",
      "Epoch 10/20\n",
      "49/49 [==============================] - 2s 37ms/step - loss: 0.2732 - acc: 0.9280 - val_loss: 0.3916 - val_acc: 0.8768\n",
      "Epoch 11/20\n",
      "49/49 [==============================] - 2s 39ms/step - loss: 0.2614 - acc: 0.9369 - val_loss: 0.3888 - val_acc: 0.8785\n",
      "Epoch 12/20\n",
      "49/49 [==============================] - 2s 40ms/step - loss: 0.2588 - acc: 0.9356 - val_loss: 0.4074 - val_acc: 0.8723\n",
      "Epoch 13/20\n",
      "49/49 [==============================] - 2s 40ms/step - loss: 0.2570 - acc: 0.9373 - val_loss: 0.3918 - val_acc: 0.8790\n",
      "Epoch 14/20\n",
      "49/49 [==============================] - 2s 37ms/step - loss: 0.2464 - acc: 0.9420 - val_loss: 0.3886 - val_acc: 0.8795\n",
      "Epoch 15/20\n",
      "49/49 [==============================] - 2s 35ms/step - loss: 0.2411 - acc: 0.9451 - val_loss: 0.3892 - val_acc: 0.8789\n",
      "Epoch 16/20\n",
      "49/49 [==============================] - 2s 36ms/step - loss: 0.2386 - acc: 0.9450 - val_loss: 0.3909 - val_acc: 0.8789\n",
      "Epoch 17/20\n",
      "49/49 [==============================] - 2s 36ms/step - loss: 0.2370 - acc: 0.9453 - val_loss: 0.4110 - val_acc: 0.8724\n",
      "Epoch 18/20\n",
      "49/49 [==============================] - 2s 36ms/step - loss: 0.2304 - acc: 0.9459 - val_loss: 0.4095 - val_acc: 0.8726\n",
      "Epoch 19/20\n",
      "49/49 [==============================] - 2s 36ms/step - loss: 0.2237 - acc: 0.9510 - val_loss: 0.4236 - val_acc: 0.8693\n",
      "Epoch 20/20\n",
      "49/49 [==============================] - 2s 35ms/step - loss: 0.2291 - acc: 0.9464 - val_loss: 0.4243 - val_acc: 0.8700\n"
     ]
    }
   ],
   "source": [
    "l1l2_model_hist = l1l2_model.fit(x_train, y_train,\n",
    "                                 epochs=20,\n",
    "                                 batch_size=512,\n",
    "                                 validation_data=(x_test, y_test))"
   ]
  },
  {
   "cell_type": "code",
   "execution_count": 56,
   "metadata": {},
   "outputs": [
    {
     "data": {
      "image/png": "[encoded data removed]",
      "text/plain": [
       "<Figure size 432x288 with 1 Axes>"
      ]
     },
     "metadata": {
      "needs_background": "light"
     },
     "output_type": "display_data"
    }
   ],
   "source": [
    "l1l2_model_val_loss = l1l2_model_hist.history['val_loss']\n",
    "\n",
    "plt.plot(epochs, original_val_loss, 'b+', label='Original model')\n",
    "plt.plot(epochs, l1l2_model_val_loss, 'bo', label='L1,L2-regularized model')\n",
    "plt.xlabel('Epochs')\n",
    "plt.ylabel('Validation loss')\n",
    "plt.legend()\n",
    "\n",
    "plt.show()"
   ]
  },
  {
   "cell_type": "code",
   "execution_count": 57,
   "metadata": {},
   "outputs": [],
   "source": [
    "dpt_model = models.Sequential()\n",
    "dpt_model.add(layers.Dense(16, activation='relu', input_shape=(10000,)))\n",
    "dpt_model.add(layers.Dropout(0.5))\n",
    "dpt_model.add(layers.Dense(16, activation='relu'))\n",
    "dpt_model.add(layers.Dropout(0.5))\n",
    "dpt_model.add(layers.Dense(1, activation='sigmoid'))\n",
    "\n",
    "dpt_model.compile(optimizer='rmsprop',\n",
    "                  loss='binary_crossentropy',\n",
    "                  metrics=['acc'])"
   ]
  },
  {
   "cell_type": "code",
   "execution_count": 58,
   "metadata": {},
   "outputs": [
    {
     "name": "stdout",
     "output_type": "stream",
     "text": [
      "Epoch 1/20\n",
      "49/49 [==============================] - 16s 275ms/step - loss: 0.6406 - acc: 0.6173 - val_loss: 0.4450 - val_acc: 0.8655\n",
      "Epoch 2/20\n",
      "49/49 [==============================] - 2s 44ms/step - loss: 0.4648 - acc: 0.7945 - val_loss: 0.3299 - val_acc: 0.8811\n",
      "Epoch 3/20\n",
      "49/49 [==============================] - 2s 41ms/step - loss: 0.3659 - acc: 0.8538 - val_loss: 0.2963 - val_acc: 0.8857\n",
      "Epoch 4/20\n",
      "49/49 [==============================] - 2s 36ms/step - loss: 0.3045 - acc: 0.8860 - val_loss: 0.2778 - val_acc: 0.8892\n",
      "Epoch 5/20\n",
      "49/49 [==============================] - 2s 42ms/step - loss: 0.2621 - acc: 0.9080 - val_loss: 0.2799 - val_acc: 0.8882\n",
      "Epoch 6/20\n",
      "49/49 [==============================] - 2s 42ms/step - loss: 0.2372 - acc: 0.9227 - val_loss: 0.2911 - val_acc: 0.8866\n",
      "Epoch 7/20\n",
      "49/49 [==============================] - 2s 44ms/step - loss: 0.2073 - acc: 0.9302 - val_loss: 0.3082 - val_acc: 0.8852\n",
      "Epoch 8/20\n",
      "49/49 [==============================] - 2s 45ms/step - loss: 0.1875 - acc: 0.9384 - val_loss: 0.3131 - val_acc: 0.8853\n",
      "Epoch 9/20\n",
      "49/49 [==============================] - 2s 44ms/step - loss: 0.1767 - acc: 0.9428 - val_loss: 0.3464 - val_acc: 0.8838\n",
      "Epoch 10/20\n",
      "49/49 [==============================] - 2s 39ms/step - loss: 0.1617 - acc: 0.9475 - val_loss: 0.3787 - val_acc: 0.8796\n",
      "Epoch 11/20\n",
      "49/49 [==============================] - 2s 38ms/step - loss: 0.1423 - acc: 0.9542 - val_loss: 0.3903 - val_acc: 0.8812\n",
      "Epoch 12/20\n",
      "49/49 [==============================] - 2s 37ms/step - loss: 0.1416 - acc: 0.9550 - val_loss: 0.4259 - val_acc: 0.8734\n",
      "Epoch 13/20\n",
      "49/49 [==============================] - 2s 37ms/step - loss: 0.1351 - acc: 0.9561 - val_loss: 0.4342 - val_acc: 0.8766\n",
      "Epoch 14/20\n",
      "49/49 [==============================] - 2s 40ms/step - loss: 0.1224 - acc: 0.9600 - val_loss: 0.4508 - val_acc: 0.8736\n",
      "Epoch 15/20\n",
      "49/49 [==============================] - 2s 41ms/step - loss: 0.1254 - acc: 0.9566 - val_loss: 0.4627 - val_acc: 0.8744\n",
      "Epoch 16/20\n",
      "49/49 [==============================] - 2s 44ms/step - loss: 0.1171 - acc: 0.9621 - val_loss: 0.5069 - val_acc: 0.8741\n",
      "Epoch 17/20\n",
      "49/49 [==============================] - 2s 39ms/step - loss: 0.1174 - acc: 0.9622 - val_loss: 0.5150 - val_acc: 0.8702\n",
      "Epoch 18/20\n",
      "49/49 [==============================] - 2s 41ms/step - loss: 0.1061 - acc: 0.9653 - val_loss: 0.5557 - val_acc: 0.8747\n",
      "Epoch 19/20\n",
      "49/49 [==============================] - 2s 40ms/step - loss: 0.1070 - acc: 0.9656 - val_loss: 0.5581 - val_acc: 0.8706\n",
      "Epoch 20/20\n",
      "49/49 [==============================] - 2s 40ms/step - loss: 0.1078 - acc: 0.9661 - val_loss: 0.5848 - val_acc: 0.8715\n"
     ]
    }
   ],
   "source": [
    "dpt_model_hist = dpt_model.fit(x_train, y_train,\n",
    "                               epochs=20,\n",
    "                               batch_size=512,\n",
    "                               validation_data=(x_test, y_test))"
   ]
  },
  {
   "cell_type": "code",
   "execution_count": 59,
   "metadata": {},
   "outputs": [
    {
     "data": {
      "image/png": "[encoded data removed]",
      "text/plain": [
       "<Figure size 432x288 with 1 Axes>"
      ]
     },
     "metadata": {
      "needs_background": "light"
     },
     "output_type": "display_data"
    }
   ],
   "source": [
    "dpt_model_val_loss = dpt_model_hist.history['val_loss']\n",
    "\n",
    "plt.plot(epochs, original_val_loss, 'b+', label='Original model')\n",
    "plt.plot(epochs, dpt_model_val_loss, 'bo', label='Dropout-regularized model')\n",
    "plt.xlabel('Epochs')\n",
    "plt.ylabel('Validation loss')\n",
    "plt.legend()\n",
    "\n",
    "plt.show()"
   ]
  },
  {
   "cell_type": "code",
   "execution_count": null,
   "metadata": {},
   "outputs": [],
   "source": []
  }
 ],
 "metadata": {
  "kernelspec": {
   "display_name": "Python 3",
   "language": "python",
   "name": "python3"
  },
  "language_info": {
   "codemirror_mode": {
    "name": "ipython",
    "version": 3
   },
   "file_extension": ".py",
   "mimetype": "text/x-python",
   "name": "python",
   "nbconvert_exporter": "python",
   "pygments_lexer": "ipython3",
   "version": "3.8.5"
  }
 },
 "nbformat": 4,
 "nbformat_minor": 4
}
