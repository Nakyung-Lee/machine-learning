{
 "cells": [
  {
   "cell_type": "code",
   "execution_count": 1,
   "metadata": {
    "_cell_guid": "b1076dfc-b9ad-4769-8c92-a6c4dae69d19",
    "_uuid": "8f2839f25d086af736a60e9eeb907d3b93b6e0e5",
    "execution": {
     "iopub.execute_input": "2021-01-29T03:15:41.046265Z",
     "iopub.status.busy": "2021-01-29T03:15:41.045373Z",
     "iopub.status.idle": "2021-01-29T03:15:42.224823Z",
     "shell.execute_reply": "2021-01-29T03:15:42.225715Z"
    },
    "papermill": {
     "duration": 1.202243,
     "end_time": "2021-01-29T03:15:42.225953",
     "exception": false,
     "start_time": "2021-01-29T03:15:41.023710",
     "status": "completed"
    },
    "tags": []
   },
   "outputs": [
    {
     "name": "stdout",
     "output_type": "stream",
     "text": [
      "/kaggle/input/digit-recognizer/sample_submission.csv\n",
      "/kaggle/input/digit-recognizer/train.csv\n",
      "/kaggle/input/digit-recognizer/test.csv\n"
     ]
    }
   ],
   "source": [
    "# This Python 3 environment comes with many helpful analytics libraries installed\n",
    "# It is defined by the kaggle/python Docker image: https://github.com/kaggle/docker-python\n",
    "# For example, here's several helpful packages to load\n",
    "\n",
    "import numpy as np # linear algebra\n",
    "import pandas as pd # data processing, CSV file I/O (e.g. pd.read_csv)\n",
    "\n",
    "import pandas as pd\n",
    "import numpy as np\n",
    "import matplotlib.pyplot as plt\n",
    "import seaborn as sns\n",
    "# Input data files are available in the read-only \"../input/\" directory\n",
    "# For example, running this (by clicking run or pressing Shift+Enter) will list all files under the input directory\n",
    "\n",
    "import os\n",
    "for dirname, _, filenames in os.walk('/kaggle/input'):\n",
    "    for filename in filenames:\n",
    "        print(os.path.join(dirname, filename))\n",
    "\n",
    "# You can write up to 20GB to the current directory (/kaggle/working/) that gets preserved as output when you create a version using \"Save & Run All\" \n",
    "# You can also write temporary files to /kaggle/temp/, but they won't be saved outside of the current session"
   ]
  },
  {
   "cell_type": "code",
   "execution_count": 2,
   "metadata": {
    "execution": {
     "iopub.execute_input": "2021-01-29T03:15:42.269224Z",
     "iopub.status.busy": "2021-01-29T03:15:42.268381Z",
     "iopub.status.idle": "2021-01-29T03:15:47.946962Z",
     "shell.execute_reply": "2021-01-29T03:15:47.946094Z"
    },
    "papermill": {
     "duration": 5.702026,
     "end_time": "2021-01-29T03:15:47.947109",
     "exception": false,
     "start_time": "2021-01-29T03:15:42.245083",
     "status": "completed"
    },
    "tags": []
   },
   "outputs": [],
   "source": [
    "train_data = pd.read_csv('/kaggle/input/digit-recognizer/train.csv')\n",
    "test_data = pd.read_csv('/kaggle/input/digit-recognizer/test.csv')"
   ]
  },
  {
   "cell_type": "code",
   "execution_count": 3,
   "metadata": {
    "execution": {
     "iopub.execute_input": "2021-01-29T03:15:47.992415Z",
     "iopub.status.busy": "2021-01-29T03:15:47.991292Z",
     "iopub.status.idle": "2021-01-29T03:15:47.997559Z",
     "shell.execute_reply": "2021-01-29T03:15:47.996714Z"
    },
    "papermill": {
     "duration": 0.031336,
     "end_time": "2021-01-29T03:15:47.997691",
     "exception": false,
     "start_time": "2021-01-29T03:15:47.966355",
     "status": "completed"
    },
    "tags": []
   },
   "outputs": [
    {
     "data": {
      "text/plain": [
       "(42000, 785)"
      ]
     },
     "execution_count": 3,
     "metadata": {},
     "output_type": "execute_result"
    }
   ],
   "source": [
    "train_data.shape"
   ]
  },
  {
   "cell_type": "code",
   "execution_count": 4,
   "metadata": {
    "execution": {
     "iopub.execute_input": "2021-01-29T03:15:48.043634Z",
     "iopub.status.busy": "2021-01-29T03:15:48.042518Z",
     "iopub.status.idle": "2021-01-29T03:15:48.049436Z",
     "shell.execute_reply": "2021-01-29T03:15:48.050108Z"
    },
    "papermill": {
     "duration": 0.033109,
     "end_time": "2021-01-29T03:15:48.050281",
     "exception": false,
     "start_time": "2021-01-29T03:15:48.017172",
     "status": "completed"
    },
    "tags": []
   },
   "outputs": [
    {
     "data": {
      "text/plain": [
       "(28000, 784)"
      ]
     },
     "execution_count": 4,
     "metadata": {},
     "output_type": "execute_result"
    }
   ],
   "source": [
    "test_data.shape"
   ]
  },
  {
   "cell_type": "code",
   "execution_count": 5,
   "metadata": {
    "execution": {
     "iopub.execute_input": "2021-01-29T03:15:48.152131Z",
     "iopub.status.busy": "2021-01-29T03:15:48.151140Z",
     "iopub.status.idle": "2021-01-29T03:15:48.156956Z",
     "shell.execute_reply": "2021-01-29T03:15:48.156065Z"
    },
    "papermill": {
     "duration": 0.086653,
     "end_time": "2021-01-29T03:15:48.157089",
     "exception": false,
     "start_time": "2021-01-29T03:15:48.070436",
     "status": "completed"
    },
    "tags": []
   },
   "outputs": [],
   "source": [
    "train_images = train_data.drop(\"label\", axis=1)\n",
    "train_labels = train_data[\"label\"]"
   ]
  },
  {
   "cell_type": "code",
   "execution_count": 6,
   "metadata": {
    "execution": {
     "iopub.execute_input": "2021-01-29T03:15:48.203870Z",
     "iopub.status.busy": "2021-01-29T03:15:48.203079Z",
     "iopub.status.idle": "2021-01-29T03:15:48.208304Z",
     "shell.execute_reply": "2021-01-29T03:15:48.207378Z"
    },
    "papermill": {
     "duration": 0.031283,
     "end_time": "2021-01-29T03:15:48.208412",
     "exception": false,
     "start_time": "2021-01-29T03:15:48.177129",
     "status": "completed"
    },
    "tags": []
   },
   "outputs": [
    {
     "data": {
      "text/plain": [
       "array([[0, 0, 0, ..., 0, 0, 0],\n",
       "       [0, 0, 0, ..., 0, 0, 0],\n",
       "       [0, 0, 0, ..., 0, 0, 0],\n",
       "       ...,\n",
       "       [0, 0, 0, ..., 0, 0, 0],\n",
       "       [0, 0, 0, ..., 0, 0, 0],\n",
       "       [0, 0, 0, ..., 0, 0, 0]])"
      ]
     },
     "execution_count": 6,
     "metadata": {},
     "output_type": "execute_result"
    }
   ],
   "source": [
    "train_images.to_numpy()"
   ]
  },
  {
   "cell_type": "code",
   "execution_count": 7,
   "metadata": {
    "execution": {
     "iopub.execute_input": "2021-01-29T03:15:48.242564Z",
     "iopub.status.busy": "2021-01-29T03:15:48.241726Z",
     "iopub.status.idle": "2021-01-29T03:15:48.245496Z",
     "shell.execute_reply": "2021-01-29T03:15:48.244703Z"
    },
    "papermill": {
     "duration": 0.023287,
     "end_time": "2021-01-29T03:15:48.245614",
     "exception": false,
     "start_time": "2021-01-29T03:15:48.222327",
     "status": "completed"
    },
    "tags": []
   },
   "outputs": [
    {
     "data": {
      "text/plain": [
       "array([1, 0, 1, ..., 7, 6, 9])"
      ]
     },
     "execution_count": 7,
     "metadata": {},
     "output_type": "execute_result"
    }
   ],
   "source": [
    "train_labels.to_numpy()"
   ]
  },
  {
   "cell_type": "code",
   "execution_count": 8,
   "metadata": {
    "execution": {
     "iopub.execute_input": "2021-01-29T03:15:48.293729Z",
     "iopub.status.busy": "2021-01-29T03:15:48.292952Z",
     "iopub.status.idle": "2021-01-29T03:15:48.295986Z",
     "shell.execute_reply": "2021-01-29T03:15:48.296639Z"
    },
    "papermill": {
     "duration": 0.029662,
     "end_time": "2021-01-29T03:15:48.296787",
     "exception": false,
     "start_time": "2021-01-29T03:15:48.267125",
     "status": "completed"
    },
    "tags": []
   },
   "outputs": [
    {
     "data": {
      "text/plain": [
       "array([[0, 0, 0, ..., 0, 0, 0],\n",
       "       [0, 0, 0, ..., 0, 0, 0],\n",
       "       [0, 0, 0, ..., 0, 0, 0],\n",
       "       ...,\n",
       "       [0, 0, 0, ..., 0, 0, 0],\n",
       "       [0, 0, 0, ..., 0, 0, 0],\n",
       "       [0, 0, 0, ..., 0, 0, 0]])"
      ]
     },
     "execution_count": 8,
     "metadata": {},
     "output_type": "execute_result"
    }
   ],
   "source": [
    "test_data.to_numpy()"
   ]
  },
  {
   "cell_type": "code",
   "execution_count": 9,
   "metadata": {
    "execution": {
     "iopub.execute_input": "2021-01-29T03:15:48.345693Z",
     "iopub.status.busy": "2021-01-29T03:15:48.344913Z",
     "iopub.status.idle": "2021-01-29T03:15:48.465562Z",
     "shell.execute_reply": "2021-01-29T03:15:48.466235Z"
    },
    "papermill": {
     "duration": 0.146263,
     "end_time": "2021-01-29T03:15:48.466411",
     "exception": false,
     "start_time": "2021-01-29T03:15:48.320148",
     "status": "completed"
    },
    "tags": []
   },
   "outputs": [],
   "source": [
    "train_images = train_images / 255\n",
    "\n",
    "\n",
    "test_data=test_data / 255"
   ]
  },
  {
   "cell_type": "code",
   "execution_count": 10,
   "metadata": {
    "execution": {
     "iopub.execute_input": "2021-01-29T03:15:48.517760Z",
     "iopub.status.busy": "2021-01-29T03:15:48.516933Z",
     "iopub.status.idle": "2021-01-29T03:15:54.914170Z",
     "shell.execute_reply": "2021-01-29T03:15:54.913602Z"
    },
    "papermill": {
     "duration": 6.425465,
     "end_time": "2021-01-29T03:15:54.914293",
     "exception": false,
     "start_time": "2021-01-29T03:15:48.488828",
     "status": "completed"
    },
    "tags": []
   },
   "outputs": [],
   "source": [
    "\n",
    "from keras.utils import to_categorical\n",
    "\n",
    "train_labels = to_categorical(train_labels)"
   ]
  },
  {
   "cell_type": "code",
   "execution_count": 11,
   "metadata": {
    "execution": {
     "iopub.execute_input": "2021-01-29T03:15:54.955069Z",
     "iopub.status.busy": "2021-01-29T03:15:54.954227Z",
     "iopub.status.idle": "2021-01-29T03:15:55.090204Z",
     "shell.execute_reply": "2021-01-29T03:15:55.089611Z"
    },
    "papermill": {
     "duration": 0.160486,
     "end_time": "2021-01-29T03:15:55.090316",
     "exception": false,
     "start_time": "2021-01-29T03:15:54.929830",
     "status": "completed"
    },
    "tags": []
   },
   "outputs": [],
   "source": [
    "from keras import models\n",
    "from keras import layers\n",
    "\n",
    "network = models.Sequential()\n",
    "network.add(layers.Dense(512, activation='relu', input_shape=(28 * 28,)))\n",
    "network.add(layers.Dense(10, activation='softmax'))"
   ]
  },
  {
   "cell_type": "code",
   "execution_count": 12,
   "metadata": {
    "execution": {
     "iopub.execute_input": "2021-01-29T03:15:55.137524Z",
     "iopub.status.busy": "2021-01-29T03:15:55.131993Z",
     "iopub.status.idle": "2021-01-29T03:15:55.147197Z",
     "shell.execute_reply": "2021-01-29T03:15:55.146469Z"
    },
    "papermill": {
     "duration": 0.041377,
     "end_time": "2021-01-29T03:15:55.147336",
     "exception": false,
     "start_time": "2021-01-29T03:15:55.105959",
     "status": "completed"
    },
    "tags": []
   },
   "outputs": [],
   "source": [
    "network.compile(optimizer='rmsprop',\n",
    "                loss='categorical_crossentropy',\n",
    "                metrics=['accuracy'])"
   ]
  },
  {
   "cell_type": "code",
   "execution_count": 13,
   "metadata": {
    "execution": {
     "iopub.execute_input": "2021-01-29T03:15:55.200036Z",
     "iopub.status.busy": "2021-01-29T03:15:55.199215Z",
     "iopub.status.idle": "2021-01-29T03:16:06.387599Z",
     "shell.execute_reply": "2021-01-29T03:16:06.388273Z"
    },
    "papermill": {
     "duration": 11.217622,
     "end_time": "2021-01-29T03:16:06.388448",
     "exception": false,
     "start_time": "2021-01-29T03:15:55.170826",
     "status": "completed"
    },
    "tags": []
   },
   "outputs": [
    {
     "name": "stdout",
     "output_type": "stream",
     "text": [
      "Epoch 1/5\n",
      "329/329 [==============================] - 2s 6ms/step - loss: 0.2947 - accuracy: 0.9149\n",
      "Epoch 2/5\n",
      "329/329 [==============================] - 2s 6ms/step - loss: 0.1229 - accuracy: 0.9640\n",
      "Epoch 3/5\n",
      "329/329 [==============================] - 2s 6ms/step - loss: 0.0798 - accuracy: 0.9761\n",
      "Epoch 4/5\n",
      "329/329 [==============================] - 2s 6ms/step - loss: 0.0573 - accuracy: 0.9825\n",
      "Epoch 5/5\n",
      "329/329 [==============================] - 2s 6ms/step - loss: 0.0426 - accuracy: 0.9874\n"
     ]
    }
   ],
   "source": [
    "history=network.fit(train_images, train_labels,epochs=5,batch_size=128)"
   ]
  },
  {
   "cell_type": "code",
   "execution_count": 14,
   "metadata": {
    "execution": {
     "iopub.execute_input": "2021-01-29T03:16:06.655132Z",
     "iopub.status.busy": "2021-01-29T03:16:06.654188Z",
     "iopub.status.idle": "2021-01-29T03:16:07.122153Z",
     "shell.execute_reply": "2021-01-29T03:16:07.121452Z"
    },
    "papermill": {
     "duration": 0.604654,
     "end_time": "2021-01-29T03:16:07.122285",
     "exception": false,
     "start_time": "2021-01-29T03:16:06.517631",
     "status": "completed"
    },
    "tags": []
   },
   "outputs": [
    {
     "data": {
      "image/png": "[encoded data removed]",
      "text/plain": [
       "<Figure size 432x288 with 1 Axes>"
      ]
     },
     "metadata": {
      "needs_background": "light"
     },
     "output_type": "display_data"
    },
    {
     "data": {
      "image/png": "[encoded data removed]",
      "text/plain": [
       "<Figure size 432x288 with 1 Axes>"
      ]
     },
     "metadata": {
      "needs_background": "light"
     },
     "output_type": "display_data"
    }
   ],
   "source": [
    "# summarize history for accuracy\n",
    "plt.plot(history.history['accuracy'])\n",
    "plt.title('model accuracy')\n",
    "plt.ylabel('accuracy')\n",
    "plt.xlabel('epoch')\n",
    "plt.legend(['train', 'test'], loc='upper left')\n",
    "plt.show()\n",
    "# summarize history for loss\n",
    "plt.plot(history.history['loss'])\n",
    "plt.title('model loss')\n",
    "plt.ylabel('loss')\n",
    "plt.xlabel('epoch')\n",
    "plt.legend(['train', 'test'], loc='upper left')\n",
    "plt.show()"
   ]
  },
  {
   "cell_type": "code",
   "execution_count": 15,
   "metadata": {
    "execution": {
     "iopub.execute_input": "2021-01-29T03:16:07.391463Z",
     "iopub.status.busy": "2021-01-29T03:16:07.390529Z",
     "iopub.status.idle": "2021-01-29T03:16:09.052120Z",
     "shell.execute_reply": "2021-01-29T03:16:09.051211Z"
    },
    "papermill": {
     "duration": 1.799718,
     "end_time": "2021-01-29T03:16:09.052256",
     "exception": false,
     "start_time": "2021-01-29T03:16:07.252538",
     "status": "completed"
    },
    "tags": []
   },
   "outputs": [],
   "source": [
    "submit = pd.DataFrame(np.argmax(network.predict(test_data), axis=1), \n",
    "                      columns=['Label'], \n",
    "                      index=pd.read_csv('/kaggle/input/digit-recognizer/sample_submission.csv')['ImageId'])\n",
    "submit.index.name = 'ImageId'\n",
    "submit.to_csv('submittion.csv',index=False)"
   ]
  },
  {
   "cell_type": "code",
   "execution_count": 16,
   "metadata": {
    "execution": {
     "iopub.execute_input": "2021-01-29T03:16:09.330838Z",
     "iopub.status.busy": "2021-01-29T03:16:09.329603Z",
     "iopub.status.idle": "2021-01-29T03:16:09.342957Z",
     "shell.execute_reply": "2021-01-29T03:16:09.342163Z"
    },
    "papermill": {
     "duration": 0.157555,
     "end_time": "2021-01-29T03:16:09.343087",
     "exception": false,
     "start_time": "2021-01-29T03:16:09.185532",
     "status": "completed"
    },
    "tags": []
   },
   "outputs": [
    {
     "data": {
      "text/html": [
       "<div>\n",
       "<style scoped>\n",
       "    .dataframe tbody tr th:only-of-type {\n",
       "        vertical-align: middle;\n",
       "    }\n",
       "\n",
       "    .dataframe tbody tr th {\n",
       "        vertical-align: top;\n",
       "    }\n",
       "\n",
       "    .dataframe thead th {\n",
       "        text-align: right;\n",
       "    }\n",
       "</style>\n",
       "<table border=\"1\" class=\"dataframe\">\n",
       "  <thead>\n",
       "    <tr style=\"text-align: right;\">\n",
       "      <th></th>\n",
       "      <th>Label</th>\n",
       "    </tr>\n",
       "    <tr>\n",
       "      <th>ImageId</th>\n",
       "      <th></th>\n",
       "    </tr>\n",
       "  </thead>\n",
       "  <tbody>\n",
       "    <tr>\n",
       "      <th>1</th>\n",
       "      <td>2</td>\n",
       "    </tr>\n",
       "    <tr>\n",
       "      <th>2</th>\n",
       "      <td>0</td>\n",
       "    </tr>\n",
       "    <tr>\n",
       "      <th>3</th>\n",
       "      <td>9</td>\n",
       "    </tr>\n",
       "    <tr>\n",
       "      <th>4</th>\n",
       "      <td>9</td>\n",
       "    </tr>\n",
       "    <tr>\n",
       "      <th>5</th>\n",
       "      <td>3</td>\n",
       "    </tr>\n",
       "    <tr>\n",
       "      <th>...</th>\n",
       "      <td>...</td>\n",
       "    </tr>\n",
       "    <tr>\n",
       "      <th>27996</th>\n",
       "      <td>9</td>\n",
       "    </tr>\n",
       "    <tr>\n",
       "      <th>27997</th>\n",
       "      <td>7</td>\n",
       "    </tr>\n",
       "    <tr>\n",
       "      <th>27998</th>\n",
       "      <td>3</td>\n",
       "    </tr>\n",
       "    <tr>\n",
       "      <th>27999</th>\n",
       "      <td>9</td>\n",
       "    </tr>\n",
       "    <tr>\n",
       "      <th>28000</th>\n",
       "      <td>2</td>\n",
       "    </tr>\n",
       "  </tbody>\n",
       "</table>\n",
       "<p>28000 rows × 1 columns</p>\n",
       "</div>"
      ],
      "text/plain": [
       "         Label\n",
       "ImageId       \n",
       "1            2\n",
       "2            0\n",
       "3            9\n",
       "4            9\n",
       "5            3\n",
       "...        ...\n",
       "27996        9\n",
       "27997        7\n",
       "27998        3\n",
       "27999        9\n",
       "28000        2\n",
       "\n",
       "[28000 rows x 1 columns]"
      ]
     },
     "execution_count": 16,
     "metadata": {},
     "output_type": "execute_result"
    }
   ],
   "source": [
    "submit"
   ]
  },
  {
   "cell_type": "code",
   "execution_count": null,
   "metadata": {
    "papermill": {
     "duration": 0.087448,
     "end_time": "2021-01-29T03:16:09.518036",
     "exception": false,
     "start_time": "2021-01-29T03:16:09.430588",
     "status": "completed"
    },
    "tags": []
   },
   "outputs": [],
   "source": []
  }
 ],
 "metadata": {
  "kernelspec": {
   "display_name": "Python 3",
   "language": "python",
   "name": "python3"
  },
  "language_info": {
   "codemirror_mode": {
    "name": "ipython",
    "version": 3
   },
   "file_extension": ".py",
   "mimetype": "text/x-python",
   "name": "python",
   "nbconvert_exporter": "python",
   "pygments_lexer": "ipython3",
   "version": "3.7.6"
  },
  "papermill": {
   "duration": 34.337051,
   "end_time": "2021-01-29T03:16:09.715134",
   "environment_variables": {},
   "exception": null,
   "input_path": "__notebook__.ipynb",
   "output_path": "__notebook__.ipynb",
   "parameters": {},
   "start_time": "2021-01-29T03:15:35.378083",
   "version": "2.1.0"
  }
 },
 "nbformat": 4,
 "nbformat_minor": 4
}
