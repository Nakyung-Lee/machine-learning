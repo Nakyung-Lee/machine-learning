{
 "cells": [
  {
   "cell_type": "code",
   "execution_count": 13,
   "metadata": {},
   "outputs": [],
   "source": [
    "#pandas : 데이터 분석, 가공, 처리 등을 쉽게 하기 위핚 자료구조와 처리 함수들을 제공하는 패키지\n",
    "#numpy : 파이썬 언어를 위핚 행렧, 벡터 등의 수학 계산을 위핚 자료구조와 계산 함수를 제공하는 패키지\n",
    "#matplotlib : 플롯(그래프)를 그릴 때 주로 쓰이는 2D, 3D 플롯팅 패키지\n",
    "#matplotlib.pyplot : matplotlib의 서브패키지로 *MATLAB 처럼 플롯을 그려주는 패키지\n",
    "#MATLAB : 수치 해석 및 프로그래밍 홖경을 제공하는 공학용 소프트웨어\n",
    "\n",
    "#%matplotlib inline : ipython의 “magic function” 중 하나로, matplotlib의 시각화 결과를 \n",
    "#Ipython notebook 안에서 출력하는 함수\n",
    "#matplotlib.style.use.('ggplot') : matplotlib 패키지에서 제공하는 스타일중 'ggplot'을 지정해서 사용\n",
    "\n",
    "from sklearn import linear_model\n",
    "import numpy as np\n",
    "import pandas as pd\n",
    "import matplotlib\n",
    "import matplotlib.pyplot as plt\n",
    "%matplotlib inline\n",
    "matplotlib.style.use('ggplot')"
   ]
  },
  {
   "cell_type": "markdown",
   "metadata": {},
   "source": [
    "### 데이터 만들기"
   ]
  },
  {
   "cell_type": "code",
   "execution_count": 4,
   "metadata": {
    "scrolled": true
   },
   "outputs": [
    {
     "data": {
      "text/html": [
       "<div>\n",
       "<style scoped>\n",
       "    .dataframe tbody tr th:only-of-type {\n",
       "        vertical-align: middle;\n",
       "    }\n",
       "\n",
       "    .dataframe tbody tr th {\n",
       "        vertical-align: top;\n",
       "    }\n",
       "\n",
       "    .dataframe thead th {\n",
       "        text-align: right;\n",
       "    }\n",
       "</style>\n",
       "<table border=\"1\" class=\"dataframe\">\n",
       "  <thead>\n",
       "    <tr style=\"text-align: right;\">\n",
       "      <th></th>\n",
       "      <th>x</th>\n",
       "      <th>y</th>\n",
       "    </tr>\n",
       "  </thead>\n",
       "  <tbody>\n",
       "    <tr>\n",
       "      <th>0</th>\n",
       "      <td>13</td>\n",
       "      <td>40</td>\n",
       "    </tr>\n",
       "    <tr>\n",
       "      <th>1</th>\n",
       "      <td>19</td>\n",
       "      <td>83</td>\n",
       "    </tr>\n",
       "    <tr>\n",
       "      <th>2</th>\n",
       "      <td>16</td>\n",
       "      <td>62</td>\n",
       "    </tr>\n",
       "    <tr>\n",
       "      <th>3</th>\n",
       "      <td>14</td>\n",
       "      <td>48</td>\n",
       "    </tr>\n",
       "    <tr>\n",
       "      <th>4</th>\n",
       "      <td>15</td>\n",
       "      <td>58</td>\n",
       "    </tr>\n",
       "    <tr>\n",
       "      <th>5</th>\n",
       "      <td>14</td>\n",
       "      <td>43</td>\n",
       "    </tr>\n",
       "  </tbody>\n",
       "</table>\n",
       "</div>"
      ],
      "text/plain": [
       "    x   y\n",
       "0  13  40\n",
       "1  19  83\n",
       "2  16  62\n",
       "3  14  48\n",
       "4  15  58\n",
       "5  14  43"
      ]
     },
     "execution_count": 4,
     "metadata": {},
     "output_type": "execute_result"
    }
   ],
   "source": [
    "data={'x':[13,19,16,14,15,14],\n",
    "     'y':[40,83,62,48,58,43]}\n",
    "# data라는 변수의 값을 data frame 형태로 변환\n",
    "data = pd.DataFrame(data)\n",
    "data"
   ]
  },
  {
   "cell_type": "markdown",
   "metadata": {},
   "source": [
    "### 산점도로 나타내어 보기"
   ]
  },
  {
   "cell_type": "code",
   "execution_count": 5,
   "metadata": {},
   "outputs": [
    {
     "data": {
      "text/plain": [
       "<AxesSubplot:xlabel='x', ylabel='y'>"
      ]
     },
     "execution_count": 5,
     "metadata": {},
     "output_type": "execute_result"
    },
    {
     "data": {
      "image/png": "[encoded data removed]",
      "text/plain": [
       "<Figure size 360x360 with 1 Axes>"
      ]
     },
     "metadata": {
      "needs_background": "light"
     },
     "output_type": "display_data"
    }
   ],
   "source": [
    "#- pyplot.plot() : 선이나 마커를 플롯하 는 함수\n",
    "data.plot(kind=\"scatter\",x='x', y='y', figsize=(5,5),color=\"blue\") "
   ]
  },
  {
   "cell_type": "markdown",
   "metadata": {},
   "source": [
    "### 데이터 학습시키기"
   ]
  },
  {
   "cell_type": "code",
   "execution_count": 11,
   "metadata": {},
   "outputs": [
    {
     "name": "stdout",
     "output_type": "stream",
     "text": [
      "a value =  -55.48175182481753\n",
      "b balue = [7.32846715]\n",
      "prediction =  [39.78832117 83.75912409 61.77372263 47.11678832 54.44525547 47.11678832]\n"
     ]
    }
   ],
   "source": [
    "#linear_regression : 선형회귀분석 모델을 저장핚 변수\n",
    "#prediction : 학습된 선형회귀분석을 이용해 나온 예측 값을 저장핚 변수\n",
    "#linear_model.LinearRegression() : 선형회귀분석 모델을 맊드는 함수\n",
    "#linear_regression.fit() : 선형회귀분석 모델에 맞게 학습하는 함수\n",
    "#학습을 시키기 위해선 X, y 값을 입력해야 하는데 X값은 2차원형태로 y값은 기존형태로 입력해야 함\n",
    "#linear_regression.predict() : 학습된 선형회귀분석 모델을 통해 새로운 값을 예측하는 함수\n",
    "#fit(X = pd.DataFrame(data[“x”]), y = data[“y”]) : 독립변수 “x” 를 2차원 DataFrame형태로 교체 후 X값으로 지정해주고\n",
    "#종속변수 “y”값은 y값으로 지정해서 모델을 학습함\n",
    "#print(linear_regression.intercept_) : 선형회귀분석식의 a 계수 출력\n",
    "#print(linear_regression.coef_) : 선형회귀분석식의 b 계수 출력\n",
    "\n",
    "linear_regression = linear_model.LinearRegression()\n",
    "linear_regression.fit(X = pd.DataFrame(data[\"x\"]), y = data[\"y\"])\n",
    "print('a value = ', linear_regression.intercept_)\n",
    "print('b balue =', linear_regression.coef_)\n",
    "prediction = linear_regression.predict(X = pd.DataFrame(data[\"x\"]))\n",
    "print('prediction = ',prediction)"
   ]
  },
  {
   "cell_type": "markdown",
   "metadata": {},
   "source": [
    "### 적합도 검증"
   ]
  },
  {
   "cell_type": "code",
   "execution_count": 10,
   "metadata": {},
   "outputs": [
    {
     "name": "stdout",
     "output_type": "stream",
     "text": [
      "0    0.211679\n",
      "1   -0.759124\n",
      "2    0.226277\n",
      "3    0.883212\n",
      "4    3.554745\n",
      "5   -4.116788\n",
      "Name: y, dtype: float64\n"
     ]
    },
    {
     "data": {
      "text/plain": [
       "count    6.000000e+00\n",
       "mean     5.921189e-15\n",
       "std      2.491445e+00\n",
       "min     -4.116788e+00\n",
       "25%     -5.164234e-01\n",
       "50%      2.189781e-01\n",
       "75%      7.189781e-01\n",
       "max      3.554745e+00\n",
       "Name: y, dtype: float64"
      ]
     },
     "execution_count": 10,
     "metadata": {},
     "output_type": "execute_result"
    }
   ],
   "source": [
    "# residuals :예측하고자 하는 'y'값에서 모델을 통해 예측된 값을 빼서 잔차(오차값)를저장한 변수\n",
    "\n",
    "residuals = data[\"y\"] - prediction\n",
    "print(residuals)\n",
    "residuals.describe()"
   ]
  },
  {
   "cell_type": "code",
   "execution_count": 8,
   "metadata": {},
   "outputs": [
    {
     "name": "stdout",
     "output_type": "stream",
     "text": [
      "SSE =  31.03649635036502\n",
      "SST =  1257.3333333333333\n",
      "R_squared =  0.9753156179610034\n"
     ]
    }
   ],
   "source": [
    "# SSE : 결정계수 값을 구하기 위해 필요핚 SSE 값을 계산 후 저장핚 변수\n",
    "# SST : 결정계수 값을 구하기 위해 필요핚 SST 값을 계산 후 저장핚 변수\n",
    "# R_squared : 적합도 검증을 위해 필요핚 결정계수 값을 계산 후 저장핚 변수\n",
    "\n",
    "SSE = (residuals**2).sum()\n",
    "print(\"SSE = \", SSE)\n",
    "SST = ((data[\"y\"]-data[\"y\"].mean())**2).sum()\n",
    "print(\"SST = \", SST)\n",
    "R_squared = 1 - (SSE/SST)\n",
    "print('R_squared = ', R_squared)"
   ]
  },
  {
   "cell_type": "code",
   "execution_count": 9,
   "metadata": {},
   "outputs": [
    {
     "data": {
      "text/plain": [
       "[<matplotlib.lines.Line2D at 0x1b7b24727c0>]"
      ]
     },
     "execution_count": 9,
     "metadata": {},
     "output_type": "execute_result"
    },
    {
     "data": {
      "image/png": "[encoded data removed]",
      "text/plain": [
       "<Figure size 360x360 with 1 Axes>"
      ]
     },
     "metadata": {
      "needs_background": "light"
     },
     "output_type": "display_data"
    }
   ],
   "source": [
    "data.plot(kind=\"scatter\",x=\"x\",y=\"y\",figsize=(5,5),color=\"red\")\n",
    "plt.plot(data[\"x\"],prediction,color=\"blue\")"
   ]
  },
  {
   "cell_type": "markdown",
   "metadata": {},
   "source": [
    "### 성능평가 하기"
   ]
  },
  {
   "cell_type": "code",
   "execution_count": 12,
   "metadata": {},
   "outputs": [
    {
     "name": "stdout",
     "output_type": "stream",
     "text": [
      "score =  0.9753156179610034\n",
      "Mean_Squared_Error =  5.172749391727503\n",
      "RMSE =  2.2743679103714736\n"
     ]
    }
   ],
   "source": [
    "#mean_squared_error : sklearn 패키지에서 제공하는 MSE를 구하기 위핚 모듈\n",
    "#sklearn.metrics.score : 샘플 데이터를 통해 예측핚 결과 값과 정확핚 결과 값을 비교해서 성능을 평가\n",
    "#score(X = pd.DataFrame(data[“x”]), y = data[“y”]) : 독립변수 “x” 를 2차원 DataFrame형태로 교체 후 X값\n",
    "#으로 지정해주고 종속변수 “y”값은 y값으로 지정해서 학습핚 모델을 통해 성능을 평가함\n",
    "#mean_squared_error(prediction, data[“y”]) : 학습핚 모델을 통해 나온 예측 값이 저장된 “prediction” 변수\n",
    "#와 예측하고자 하는 실제 값이 저장된 “y”값을 입력해 mean_squared_error함수로 평균제곱오차 값을 구함\n",
    "\n",
    "from sklearn.metrics import mean_squared_error\n",
    "print('score = ', linear_regression.score(X = pd.DataFrame(data[\"x\"]), y = data[\"y\"]))\n",
    "print('Mean_Squared_Error = ', mean_squared_error(prediction, data['y']))\n",
    "print('RMSE = ', mean_squared_error(prediction, data['y'])**0.5)"
   ]
  },
  {
   "cell_type": "code",
   "execution_count": null,
   "metadata": {},
   "outputs": [],
   "source": []
  }
 ],
 "metadata": {
  "kernelspec": {
   "display_name": "Python 3",
   "language": "python",
   "name": "python3"
  },
  "language_info": {
   "codemirror_mode": {
    "name": "ipython",
    "version": 3
   },
   "file_extension": ".py",
   "mimetype": "text/x-python",
   "name": "python",
   "nbconvert_exporter": "python",
   "pygments_lexer": "ipython3",
   "version": "3.8.5"
  }
 },
 "nbformat": 4,
 "nbformat_minor": 4
}
