{
 "cells": [
  {
   "cell_type": "markdown",
   "metadata": {},
   "source": [
    "# 영문 데이터 텍스트 분석"
   ]
  },
  {
   "cell_type": "code",
   "execution_count": 3,
   "metadata": {},
   "outputs": [],
   "source": [
    "#영문 자연어 처리 패키지인 NLTK를 import\n",
    "import nltk"
   ]
  },
  {
   "cell_type": "code",
   "execution_count": 6,
   "metadata": {
    "scrolled": true
   },
   "outputs": [
    {
     "name": "stdout",
     "output_type": "stream",
     "text": [
      "showing info https://raw.githubusercontent.com/nltk/nltk_data/gh-pages/index.xml\n"
     ]
    },
    {
     "data": {
      "text/plain": [
       "True"
      ]
     },
     "execution_count": 6,
     "metadata": {},
     "output_type": "execute_result"
    }
   ],
   "source": [
    "nltk.download()"
   ]
  },
  {
   "cell_type": "code",
   "execution_count": 7,
   "metadata": {},
   "outputs": [],
   "source": [
    "import pandas as pd\n",
    "import numpy as np"
   ]
  },
  {
   "cell_type": "code",
   "execution_count": 8,
   "metadata": {},
   "outputs": [],
   "source": [
    "df = pd.DataFrame(columns=('name','description','category'))"
   ]
  },
  {
   "cell_type": "code",
   "execution_count": 9,
   "metadata": {},
   "outputs": [],
   "source": [
    "import nltk"
   ]
  },
  {
   "cell_type": "code",
   "execution_count": 10,
   "metadata": {
    "scrolled": false
   },
   "outputs": [
    {
     "data": {
      "text/html": [
       "<div>\n",
       "<style scoped>\n",
       "    .dataframe tbody tr th:only-of-type {\n",
       "        vertical-align: middle;\n",
       "    }\n",
       "\n",
       "    .dataframe tbody tr th {\n",
       "        vertical-align: top;\n",
       "    }\n",
       "\n",
       "    .dataframe thead th {\n",
       "        text-align: right;\n",
       "    }\n",
       "</style>\n",
       "<table border=\"1\" class=\"dataframe\">\n",
       "  <thead>\n",
       "    <tr style=\"text-align: right;\">\n",
       "      <th></th>\n",
       "      <th>Unnamed: 0</th>\n",
       "      <th>name</th>\n",
       "      <th>description</th>\n",
       "      <th>category</th>\n",
       "    </tr>\n",
       "  </thead>\n",
       "  <tbody>\n",
       "    <tr>\n",
       "      <th>0</th>\n",
       "      <td>299</td>\n",
       "      <td>'We're utterly disfranchised': Welcome to Buck...</td>\n",
       "      <td>As the general election ploughs on, a differen...</td>\n",
       "      <td>Politics</td>\n",
       "    </tr>\n",
       "    <tr>\n",
       "      <th>1</th>\n",
       "      <td>505</td>\n",
       "      <td>Yann Kermorgant sends Reading to Wembley in pl...</td>\n",
       "      <td>Reading are one game away from a return to the...</td>\n",
       "      <td>Sports</td>\n",
       "    </tr>\n",
       "    <tr>\n",
       "      <th>2</th>\n",
       "      <td>432</td>\n",
       "      <td>Samsung Pay's finally launched in the UK to ta...</td>\n",
       "      <td>Samsung Pay has finally launched in the UK to ...</td>\n",
       "      <td>ScienceAndTechnology</td>\n",
       "    </tr>\n",
       "    <tr>\n",
       "      <th>3</th>\n",
       "      <td>438</td>\n",
       "      <td>Shock alien life announcement on 'second Earth'</td>\n",
       "      <td>Proxima b was discovered in 2013 and it was se...</td>\n",
       "      <td>ScienceAndTechnology</td>\n",
       "    </tr>\n",
       "    <tr>\n",
       "      <th>4</th>\n",
       "      <td>268</td>\n",
       "      <td>Physician age and outcomes in elderly patients...</td>\n",
       "      <td>1 Department of Health Policy and Management, ...</td>\n",
       "      <td>Health</td>\n",
       "    </tr>\n",
       "    <tr>\n",
       "      <th>...</th>\n",
       "      <td>...</td>\n",
       "      <td>...</td>\n",
       "      <td>...</td>\n",
       "      <td>...</td>\n",
       "    </tr>\n",
       "    <tr>\n",
       "      <th>776</th>\n",
       "      <td>240</td>\n",
       "      <td>Family to host black tie dinner in Northampton...</td>\n",
       "      <td>The family of a \"gregarious\" Northampton man, ...</td>\n",
       "      <td>Health</td>\n",
       "    </tr>\n",
       "    <tr>\n",
       "      <th>777</th>\n",
       "      <td>466</td>\n",
       "      <td>The best Bluetooth speakers</td>\n",
       "      <td>There's a lot of choice when it comes to speak...</td>\n",
       "      <td>ScienceAndTechnology</td>\n",
       "    </tr>\n",
       "    <tr>\n",
       "      <th>778</th>\n",
       "      <td>573</td>\n",
       "      <td>Everton agree terms with Sandro</td>\n",
       "      <td>Everton have agreed personal terms with Malaga...</td>\n",
       "      <td>Sports</td>\n",
       "    </tr>\n",
       "    <tr>\n",
       "      <th>779</th>\n",
       "      <td>685</td>\n",
       "      <td>Trump asked FBI's Comey to drop Flynn inquiry ...</td>\n",
       "      <td>President Donald Trump asked FBI chief James C...</td>\n",
       "      <td>World</td>\n",
       "    </tr>\n",
       "    <tr>\n",
       "      <th>780</th>\n",
       "      <td>72</td>\n",
       "      <td>EXCLUSIVE: 39% believe their employer cares ab...</td>\n",
       "      <td>EXCLUSIVE: More than one third (39%) of employ...</td>\n",
       "      <td>Business</td>\n",
       "    </tr>\n",
       "  </tbody>\n",
       "</table>\n",
       "<p>781 rows × 4 columns</p>\n",
       "</div>"
      ],
      "text/plain": [
       "     Unnamed: 0                                               name  \\\n",
       "0           299  'We're utterly disfranchised': Welcome to Buck...   \n",
       "1           505  Yann Kermorgant sends Reading to Wembley in pl...   \n",
       "2           432  Samsung Pay's finally launched in the UK to ta...   \n",
       "3           438    Shock alien life announcement on 'second Earth'   \n",
       "4           268  Physician age and outcomes in elderly patients...   \n",
       "..          ...                                                ...   \n",
       "776         240  Family to host black tie dinner in Northampton...   \n",
       "777         466                        The best Bluetooth speakers   \n",
       "778         573                    Everton agree terms with Sandro   \n",
       "779         685  Trump asked FBI's Comey to drop Flynn inquiry ...   \n",
       "780          72  EXCLUSIVE: 39% believe their employer cares ab...   \n",
       "\n",
       "                                           description              category  \n",
       "0    As the general election ploughs on, a differen...              Politics  \n",
       "1    Reading are one game away from a return to the...                Sports  \n",
       "2    Samsung Pay has finally launched in the UK to ...  ScienceAndTechnology  \n",
       "3    Proxima b was discovered in 2013 and it was se...  ScienceAndTechnology  \n",
       "4    1 Department of Health Policy and Management, ...                Health  \n",
       "..                                                 ...                   ...  \n",
       "776  The family of a \"gregarious\" Northampton man, ...                Health  \n",
       "777  There's a lot of choice when it comes to speak...  ScienceAndTechnology  \n",
       "778  Everton have agreed personal terms with Malaga...                Sports  \n",
       "779  President Donald Trump asked FBI chief James C...                 World  \n",
       "780  EXCLUSIVE: More than one third (39%) of employ...              Business  \n",
       "\n",
       "[781 rows x 4 columns]"
      ]
     },
     "execution_count": 10,
     "metadata": {},
     "output_type": "execute_result"
    }
   ],
   "source": [
    "df = pd.read_csv('bing_news_shuffle.csv', encoding = 'cp949')\n",
    "df"
   ]
  },
  {
   "cell_type": "markdown",
   "metadata": {},
   "source": [
    "## 토큰화"
   ]
  },
  {
   "cell_type": "code",
   "execution_count": 19,
   "metadata": {
    "scrolled": true
   },
   "outputs": [
    {
     "name": "stdout",
     "output_type": "stream",
     "text": [
      "As the general election ploughs on, a different type of campaign is raging in the sleepy constituency of Buckingham. In the territory, nestled between Oxford, Aylesbury and Milton Keynes, more than 75,000 voters have not been heard in Parliament since 2009.\n"
     ]
    }
   ],
   "source": [
    "#ix함수를 사용해서 0번 인덱스 행의 description 출력\n",
    "print(df.loc[0]['description'])"
   ]
  },
  {
   "cell_type": "code",
   "execution_count": 20,
   "metadata": {},
   "outputs": [
    {
     "data": {
      "text/plain": [
       "['As',\n",
       " 'the',\n",
       " 'general',\n",
       " 'election',\n",
       " 'ploughs',\n",
       " 'on',\n",
       " ',',\n",
       " 'a',\n",
       " 'different',\n",
       " 'type',\n",
       " 'of',\n",
       " 'campaign',\n",
       " 'is',\n",
       " 'raging',\n",
       " 'in',\n",
       " 'the',\n",
       " 'sleepy',\n",
       " 'constituency',\n",
       " 'of',\n",
       " 'Buckingham',\n",
       " '.',\n",
       " 'In',\n",
       " 'the',\n",
       " 'territory',\n",
       " ',',\n",
       " 'nestled',\n",
       " 'between',\n",
       " 'Oxford',\n",
       " ',',\n",
       " 'Aylesbury',\n",
       " 'and',\n",
       " 'Milton',\n",
       " 'Keynes',\n",
       " ',',\n",
       " 'more',\n",
       " 'than',\n",
       " '75,000',\n",
       " 'voters',\n",
       " 'have',\n",
       " 'not',\n",
       " 'been',\n",
       " 'heard',\n",
       " 'in',\n",
       " 'Parliament',\n",
       " 'since',\n",
       " '2009',\n",
       " '.']"
      ]
     },
     "execution_count": 20,
     "metadata": {},
     "output_type": "execute_result"
    }
   ],
   "source": [
    "#NLTK의 word_tokenize함수를 사용. 이 뉴스 내용을 토큰화해서 word_tokenize함수 사용, 이후 출력\n",
    "#이 토큰화는 단순 공백을 기반으로 함\n",
    "tokens = nltk.word_tokenize(df.loc[0]['description'])\n",
    "tokens"
   ]
  },
  {
   "cell_type": "code",
   "execution_count": 23,
   "metadata": {},
   "outputs": [
    {
     "data": {
      "text/plain": [
       "['as',\n",
       " 'the',\n",
       " 'general',\n",
       " 'election',\n",
       " 'ploughs',\n",
       " 'on',\n",
       " 'different',\n",
       " 'type',\n",
       " 'of',\n",
       " 'campaign',\n",
       " 'is',\n",
       " 'raging',\n",
       " 'in',\n",
       " 'the',\n",
       " 'sleepy',\n",
       " 'constituency',\n",
       " 'of',\n",
       " 'buckingham',\n",
       " 'in',\n",
       " 'the',\n",
       " 'territory',\n",
       " 'nestled',\n",
       " 'between',\n",
       " 'oxford',\n",
       " 'aylesbury',\n",
       " 'and',\n",
       " 'milton',\n",
       " 'keynes',\n",
       " 'more',\n",
       " 'than',\n",
       " '75,000',\n",
       " 'voters',\n",
       " 'have',\n",
       " 'not',\n",
       " 'been',\n",
       " 'heard',\n",
       " 'in',\n",
       " 'parliament',\n",
       " 'since',\n",
       " '2009']"
      ]
     },
     "execution_count": 23,
     "metadata": {},
     "output_type": "execute_result"
    }
   ],
   "source": [
    "#토큰 소문자로 변경\n",
    "tokens = [token.lower() for token in tokens if len(token) > 1] #단어의 길이가 1보다 크면 소문자로 만들어라\n",
    "tokens"
   ]
  },
  {
   "cell_type": "code",
   "execution_count": 22,
   "metadata": {},
   "outputs": [
    {
     "name": "stdout",
     "output_type": "stream",
     "text": [
      "('as', 'the')\n",
      "('the', 'general')\n",
      "('general', 'election')\n",
      "('election', 'ploughs')\n",
      "('ploughs', 'on')\n",
      "('on', 'different')\n",
      "('different', 'type')\n",
      "('type', 'of')\n",
      "('of', 'campaign')\n",
      "('campaign', 'is')\n",
      "('is', 'raging')\n",
      "('raging', 'in')\n",
      "('in', 'the')\n",
      "('the', 'sleepy')\n",
      "('sleepy', 'constituency')\n",
      "('constituency', 'of')\n",
      "('of', 'buckingham')\n",
      "('buckingham', 'in')\n",
      "('in', 'the')\n",
      "('the', 'territory')\n",
      "('territory', 'nestled')\n",
      "('nestled', 'between')\n",
      "('between', 'oxford')\n",
      "('oxford', 'aylesbury')\n",
      "('aylesbury', 'and')\n",
      "('and', 'milton')\n",
      "('milton', 'keynes')\n",
      "('keynes', 'more')\n",
      "('more', 'than')\n",
      "('than', '75,000')\n",
      "('75,000', 'voters')\n",
      "('voters', 'have')\n",
      "('have', 'not')\n",
      "('not', 'been')\n",
      "('been', 'heard')\n",
      "('heard', 'in')\n",
      "('in', 'parliament')\n",
      "('parliament', 'since')\n",
      "('since', '2009')\n"
     ]
    }
   ],
   "source": [
    "#bi-gram은 단어들을 두 개씩 묶어서 하나의 토큰으로 추출한 것\n",
    "tokens_bigram = nltk.bigrams(tokens)\n",
    "for token in tokens_bigram :\n",
    "    print(token)"
   ]
  },
  {
   "cell_type": "code",
   "execution_count": 24,
   "metadata": {},
   "outputs": [
    {
     "name": "stdout",
     "output_type": "stream",
     "text": [
      "('as', 'the', 'general')\n",
      "('the', 'general', 'election')\n",
      "('general', 'election', 'ploughs')\n",
      "('election', 'ploughs', 'on')\n",
      "('ploughs', 'on', 'different')\n",
      "('on', 'different', 'type')\n",
      "('different', 'type', 'of')\n",
      "('type', 'of', 'campaign')\n",
      "('of', 'campaign', 'is')\n",
      "('campaign', 'is', 'raging')\n",
      "('is', 'raging', 'in')\n",
      "('raging', 'in', 'the')\n",
      "('in', 'the', 'sleepy')\n",
      "('the', 'sleepy', 'constituency')\n",
      "('sleepy', 'constituency', 'of')\n",
      "('constituency', 'of', 'buckingham')\n",
      "('of', 'buckingham', 'in')\n",
      "('buckingham', 'in', 'the')\n",
      "('in', 'the', 'territory')\n",
      "('the', 'territory', 'nestled')\n",
      "('territory', 'nestled', 'between')\n",
      "('nestled', 'between', 'oxford')\n",
      "('between', 'oxford', 'aylesbury')\n",
      "('oxford', 'aylesbury', 'and')\n",
      "('aylesbury', 'and', 'milton')\n",
      "('and', 'milton', 'keynes')\n",
      "('milton', 'keynes', 'more')\n",
      "('keynes', 'more', 'than')\n",
      "('more', 'than', '75,000')\n",
      "('than', '75,000', 'voters')\n",
      "('75,000', 'voters', 'have')\n",
      "('voters', 'have', 'not')\n",
      "('have', 'not', 'been')\n",
      "('not', 'been', 'heard')\n",
      "('been', 'heard', 'in')\n",
      "('heard', 'in', 'parliament')\n",
      "('in', 'parliament', 'since')\n",
      "('parliament', 'since', '2009')\n"
     ]
    }
   ],
   "source": [
    "#tri-gram은 단어를 3개씩 묶었다는 얘기. 세 개씩 묶어서 하나의 토큰으로 추출\n",
    "tokens_trigram = nltk.trigrams(tokens)\n",
    "for token in tokens_trigram :\n",
    "    print(token)"
   ]
  },
  {
   "cell_type": "markdown",
   "metadata": {},
   "source": [
    "## 정제"
   ]
  },
  {
   "cell_type": "code",
   "execution_count": 25,
   "metadata": {},
   "outputs": [],
   "source": [
    "from nltk.corpus import stopwords"
   ]
  },
  {
   "cell_type": "code",
   "execution_count": 26,
   "metadata": {},
   "outputs": [
    {
     "data": {
      "text/plain": [
       "['i',\n",
       " 'me',\n",
       " 'my',\n",
       " 'myself',\n",
       " 'we',\n",
       " 'our',\n",
       " 'ours',\n",
       " 'ourselves',\n",
       " 'you',\n",
       " \"you're\",\n",
       " \"you've\",\n",
       " \"you'll\",\n",
       " \"you'd\",\n",
       " 'your',\n",
       " 'yours',\n",
       " 'yourself',\n",
       " 'yourselves',\n",
       " 'he',\n",
       " 'him',\n",
       " 'his',\n",
       " 'himself',\n",
       " 'she',\n",
       " \"she's\",\n",
       " 'her',\n",
       " 'hers',\n",
       " 'herself',\n",
       " 'it',\n",
       " \"it's\",\n",
       " 'its',\n",
       " 'itself',\n",
       " 'they',\n",
       " 'them',\n",
       " 'their',\n",
       " 'theirs',\n",
       " 'themselves',\n",
       " 'what',\n",
       " 'which',\n",
       " 'who',\n",
       " 'whom',\n",
       " 'this',\n",
       " 'that',\n",
       " \"that'll\",\n",
       " 'these',\n",
       " 'those',\n",
       " 'am',\n",
       " 'is',\n",
       " 'are',\n",
       " 'was',\n",
       " 'were',\n",
       " 'be',\n",
       " 'been',\n",
       " 'being',\n",
       " 'have',\n",
       " 'has',\n",
       " 'had',\n",
       " 'having',\n",
       " 'do',\n",
       " 'does',\n",
       " 'did',\n",
       " 'doing',\n",
       " 'a',\n",
       " 'an',\n",
       " 'the',\n",
       " 'and',\n",
       " 'but',\n",
       " 'if',\n",
       " 'or',\n",
       " 'because',\n",
       " 'as',\n",
       " 'until',\n",
       " 'while',\n",
       " 'of',\n",
       " 'at',\n",
       " 'by',\n",
       " 'for',\n",
       " 'with',\n",
       " 'about',\n",
       " 'against',\n",
       " 'between',\n",
       " 'into',\n",
       " 'through',\n",
       " 'during',\n",
       " 'before',\n",
       " 'after',\n",
       " 'above',\n",
       " 'below',\n",
       " 'to',\n",
       " 'from',\n",
       " 'up',\n",
       " 'down',\n",
       " 'in',\n",
       " 'out',\n",
       " 'on',\n",
       " 'off',\n",
       " 'over',\n",
       " 'under',\n",
       " 'again',\n",
       " 'further',\n",
       " 'then',\n",
       " 'once',\n",
       " 'here',\n",
       " 'there',\n",
       " 'when',\n",
       " 'where',\n",
       " 'why',\n",
       " 'how',\n",
       " 'all',\n",
       " 'any',\n",
       " 'both',\n",
       " 'each',\n",
       " 'few',\n",
       " 'more',\n",
       " 'most',\n",
       " 'other',\n",
       " 'some',\n",
       " 'such',\n",
       " 'no',\n",
       " 'nor',\n",
       " 'not',\n",
       " 'only',\n",
       " 'own',\n",
       " 'same',\n",
       " 'so',\n",
       " 'than',\n",
       " 'too',\n",
       " 'very',\n",
       " 's',\n",
       " 't',\n",
       " 'can',\n",
       " 'will',\n",
       " 'just',\n",
       " 'don',\n",
       " \"don't\",\n",
       " 'should',\n",
       " \"should've\",\n",
       " 'now',\n",
       " 'd',\n",
       " 'll',\n",
       " 'm',\n",
       " 'o',\n",
       " 're',\n",
       " 've',\n",
       " 'y',\n",
       " 'ain',\n",
       " 'aren',\n",
       " \"aren't\",\n",
       " 'couldn',\n",
       " \"couldn't\",\n",
       " 'didn',\n",
       " \"didn't\",\n",
       " 'doesn',\n",
       " \"doesn't\",\n",
       " 'hadn',\n",
       " \"hadn't\",\n",
       " 'hasn',\n",
       " \"hasn't\",\n",
       " 'haven',\n",
       " \"haven't\",\n",
       " 'isn',\n",
       " \"isn't\",\n",
       " 'ma',\n",
       " 'mightn',\n",
       " \"mightn't\",\n",
       " 'mustn',\n",
       " \"mustn't\",\n",
       " 'needn',\n",
       " \"needn't\",\n",
       " 'shan',\n",
       " \"shan't\",\n",
       " 'shouldn',\n",
       " \"shouldn't\",\n",
       " 'wasn',\n",
       " \"wasn't\",\n",
       " 'weren',\n",
       " \"weren't\",\n",
       " 'won',\n",
       " \"won't\",\n",
       " 'wouldn',\n",
       " \"wouldn't\"]"
      ]
     },
     "execution_count": 26,
     "metadata": {},
     "output_type": "execute_result"
    }
   ],
   "source": [
    "#Stopwords 중에 영어 불용어(관사등)에 해당하는 english를 가져와서 stopwords에 저장\n",
    "stop_words = stopwords.words('english')\n",
    "stop_words"
   ]
  },
  {
   "cell_type": "code",
   "execution_count": 27,
   "metadata": {},
   "outputs": [
    {
     "data": {
      "text/plain": [
       "['general',\n",
       " 'election',\n",
       " 'ploughs',\n",
       " 'different',\n",
       " 'type',\n",
       " 'campaign',\n",
       " 'raging',\n",
       " 'sleepy',\n",
       " 'constituency',\n",
       " 'buckingham',\n",
       " 'territory',\n",
       " 'nestled',\n",
       " 'oxford',\n",
       " 'aylesbury',\n",
       " 'milton',\n",
       " 'keynes',\n",
       " '75,000',\n",
       " 'voters',\n",
       " 'heard',\n",
       " 'parliament',\n",
       " 'since',\n",
       " '2009']"
      ]
     },
     "execution_count": 27,
     "metadata": {},
     "output_type": "execute_result"
    }
   ],
   "source": [
    "#stopwords에 존재하지 않는 경우에 token_clean에 저장, 출력\n",
    "tokens_clean = [token for token in tokens if not token in stop_words]\n",
    "tokens_clean"
   ]
  },
  {
   "cell_type": "markdown",
   "metadata": {},
   "source": [
    "## 품사추출"
   ]
  },
  {
   "cell_type": "code",
   "execution_count": 29,
   "metadata": {},
   "outputs": [
    {
     "name": "stdout",
     "output_type": "stream",
     "text": [
      "showing info https://raw.githubusercontent.com/nltk/nltk_data/gh-pages/index.xml\n"
     ]
    },
    {
     "data": {
      "text/plain": [
       "True"
      ]
     },
     "execution_count": 29,
     "metadata": {},
     "output_type": "execute_result"
    }
   ],
   "source": [
    "nltk.download()"
   ]
  },
  {
   "cell_type": "code",
   "execution_count": 30,
   "metadata": {},
   "outputs": [
    {
     "name": "stdout",
     "output_type": "stream",
     "text": [
      "[('general', 'JJ'), ('election', 'NN'), ('ploughs', 'VBZ'), ('different', 'JJ'), ('type', 'NN'), ('campaign', 'NN'), ('raging', 'VBG'), ('sleepy', 'JJ'), ('constituency', 'NN'), ('buckingham', 'VBD'), ('territory', 'NN'), ('nestled', 'VBN'), ('oxford', 'JJ'), ('aylesbury', 'NN'), ('milton', 'NN'), ('keynes', 'VBZ'), ('75,000', 'CD'), ('voters', 'NNS'), ('heard', 'VBD'), ('parliament', 'NN'), ('since', 'IN'), ('2009', 'CD')]\n"
     ]
    }
   ],
   "source": [
    "#NLTK에 내장된 형태소 분석기인 pos_tag를 사용해서 토큰들의 품사 추출\n",
    "#JJ : 형용사 NN : 명사 VBG : 동사\n",
    "tokens_tagged = nltk.pos_tag(tokens_clean)\n",
    "print(tokens_tagged)"
   ]
  },
  {
   "cell_type": "code",
   "execution_count": 32,
   "metadata": {},
   "outputs": [
    {
     "name": "stdout",
     "output_type": "stream",
     "text": [
      "['election', 'type', 'campaign', 'constituency', 'territory', 'aylesbury', 'milton', 'parliament']\n"
     ]
    }
   ],
   "source": [
    "#형태소 분석이 된 토큰과 형태소에 대해서, 형태소가 NN(명사) 혹은 NNP(고유명사)에 해당하는지 확인\n",
    "#명사일 경우 단어를 tokens.noun에 저장\n",
    "tokens_noun = [word for word, pos in tokens_tagged if pos in ['NN', 'NNP']]\n",
    "print(tokens_noun)"
   ]
  },
  {
   "cell_type": "markdown",
   "metadata": {},
   "source": [
    "## WordCloud"
   ]
  },
  {
   "cell_type": "code",
   "execution_count": 33,
   "metadata": {},
   "outputs": [],
   "source": [
    "#WordCloud는 문서에 등장한 단어의 빈도를 측정해서 시각화하는 방법\n",
    "%matplotlib inline\n",
    "import matplotlib.pyplot as plt\n",
    "from wordcloud import WordCloud, STOPWORDS"
   ]
  },
  {
   "cell_type": "code",
   "execution_count": 34,
   "metadata": {},
   "outputs": [],
   "source": [
    "stopwords = set(STOPWORDS)\n",
    "#배경색과 가장 큰 단어의 크기, 단어의 최대 개수, 불용어 리스트에 우리가 만들어둔 변수를 지정\n",
    "wc = WordCloud(background_color=\"white\", max_font_size=100, max_words=50, stopwords=stopwords)"
   ]
  },
  {
   "cell_type": "code",
   "execution_count": 35,
   "metadata": {},
   "outputs": [],
   "source": [
    "text_data = df['description'].str.cat(sep=', ')\n",
    "wordcloud = wc.generate(text_data)"
   ]
  },
  {
   "cell_type": "code",
   "execution_count": 36,
   "metadata": {},
   "outputs": [
    {
     "data": {
      "text/plain": [
       "(-0.5, 399.5, 199.5, -0.5)"
      ]
     },
     "execution_count": 36,
     "metadata": {},
     "output_type": "execute_result"
    },
    {
     "data": {
      "image/png": "[encoded data removed]",
      "text/plain": [
       "<Figure size 720x720 with 1 Axes>"
      ]
     },
     "metadata": {
      "needs_background": "light"
     },
     "output_type": "display_data"
    }
   ],
   "source": [
    "# 화면에 시각화 할 공간을 설정합니다.\n",
    "plt.figure(figsize=(10, 10))\n",
    "plt.imshow(wordcloud, interpolation='bilinear')\n",
    "plt.axis('off')"
   ]
  },
  {
   "cell_type": "markdown",
   "metadata": {},
   "source": [
    "## 특징값 추출"
   ]
  },
  {
   "cell_type": "code",
   "execution_count": 37,
   "metadata": {},
   "outputs": [],
   "source": [
    "#문서 단어 행렬은 각 문서와 단어에 해당하는 수치를 표현한 행렬\n",
    "from sklearn.feature_extraction.text import TfidfVectorizer\n",
    "text_data_list = df['description'].astype(str).tolist()\n",
    "text_data_arr = np.array([''.join(text) for text in text_data_list])"
   ]
  },
  {
   "cell_type": "code",
   "execution_count": 38,
   "metadata": {},
   "outputs": [],
   "source": [
    "#tf-idf 문서 단어행렬을 만드는 모듈 vectorizer 선언\n",
    "vectorizer = TfidfVectorizer(min_df=2, ngram_range=(1, 2), strip_accents='unicode', norm='l2')\n",
    "text_data = vectorizer.fit_transform(text_data_arr)"
   ]
  },
  {
   "cell_type": "code",
   "execution_count": 39,
   "metadata": {},
   "outputs": [
    {
     "data": {
      "text/html": [
       "<div>\n",
       "<style scoped>\n",
       "    .dataframe tbody tr th:only-of-type {\n",
       "        vertical-align: middle;\n",
       "    }\n",
       "\n",
       "    .dataframe tbody tr th {\n",
       "        vertical-align: top;\n",
       "    }\n",
       "\n",
       "    .dataframe thead th {\n",
       "        text-align: right;\n",
       "    }\n",
       "</style>\n",
       "<table border=\"1\" class=\"dataframe\">\n",
       "  <thead>\n",
       "    <tr style=\"text-align: right;\">\n",
       "      <th></th>\n",
       "      <th>000</th>\n",
       "      <th>000 computers</th>\n",
       "      <th>000 fans</th>\n",
       "      <th>000 loan</th>\n",
       "      <th>000 of</th>\n",
       "      <th>000 to</th>\n",
       "      <th>000 was</th>\n",
       "      <th>000 women</th>\n",
       "      <th>05</th>\n",
       "      <th>10</th>\n",
       "      <th>...</th>\n",
       "      <th>young people</th>\n",
       "      <th>youngest</th>\n",
       "      <th>youngsters</th>\n",
       "      <th>your</th>\n",
       "      <th>your vote</th>\n",
       "      <th>youtube</th>\n",
       "      <th>youtube and</th>\n",
       "      <th>yvonne</th>\n",
       "      <th>yvonne fletcher</th>\n",
       "      <th>zoe</th>\n",
       "    </tr>\n",
       "  </thead>\n",
       "  <tbody>\n",
       "    <tr>\n",
       "      <th>0</th>\n",
       "      <td>0.139847</td>\n",
       "      <td>0.0</td>\n",
       "      <td>0.0</td>\n",
       "      <td>0.0</td>\n",
       "      <td>0.0</td>\n",
       "      <td>0.0</td>\n",
       "      <td>0.0</td>\n",
       "      <td>0.0</td>\n",
       "      <td>0.0</td>\n",
       "      <td>0.000000</td>\n",
       "      <td>...</td>\n",
       "      <td>0.0</td>\n",
       "      <td>0.0</td>\n",
       "      <td>0.0</td>\n",
       "      <td>0.0</td>\n",
       "      <td>0.0</td>\n",
       "      <td>0.0</td>\n",
       "      <td>0.0</td>\n",
       "      <td>0.0</td>\n",
       "      <td>0.0</td>\n",
       "      <td>0.0</td>\n",
       "    </tr>\n",
       "    <tr>\n",
       "      <th>1</th>\n",
       "      <td>0.000000</td>\n",
       "      <td>0.0</td>\n",
       "      <td>0.0</td>\n",
       "      <td>0.0</td>\n",
       "      <td>0.0</td>\n",
       "      <td>0.0</td>\n",
       "      <td>0.0</td>\n",
       "      <td>0.0</td>\n",
       "      <td>0.0</td>\n",
       "      <td>0.000000</td>\n",
       "      <td>...</td>\n",
       "      <td>0.0</td>\n",
       "      <td>0.0</td>\n",
       "      <td>0.0</td>\n",
       "      <td>0.0</td>\n",
       "      <td>0.0</td>\n",
       "      <td>0.0</td>\n",
       "      <td>0.0</td>\n",
       "      <td>0.0</td>\n",
       "      <td>0.0</td>\n",
       "      <td>0.0</td>\n",
       "    </tr>\n",
       "    <tr>\n",
       "      <th>2</th>\n",
       "      <td>0.000000</td>\n",
       "      <td>0.0</td>\n",
       "      <td>0.0</td>\n",
       "      <td>0.0</td>\n",
       "      <td>0.0</td>\n",
       "      <td>0.0</td>\n",
       "      <td>0.0</td>\n",
       "      <td>0.0</td>\n",
       "      <td>0.0</td>\n",
       "      <td>0.000000</td>\n",
       "      <td>...</td>\n",
       "      <td>0.0</td>\n",
       "      <td>0.0</td>\n",
       "      <td>0.0</td>\n",
       "      <td>0.0</td>\n",
       "      <td>0.0</td>\n",
       "      <td>0.0</td>\n",
       "      <td>0.0</td>\n",
       "      <td>0.0</td>\n",
       "      <td>0.0</td>\n",
       "      <td>0.0</td>\n",
       "    </tr>\n",
       "    <tr>\n",
       "      <th>3</th>\n",
       "      <td>0.000000</td>\n",
       "      <td>0.0</td>\n",
       "      <td>0.0</td>\n",
       "      <td>0.0</td>\n",
       "      <td>0.0</td>\n",
       "      <td>0.0</td>\n",
       "      <td>0.0</td>\n",
       "      <td>0.0</td>\n",
       "      <td>0.0</td>\n",
       "      <td>0.000000</td>\n",
       "      <td>...</td>\n",
       "      <td>0.0</td>\n",
       "      <td>0.0</td>\n",
       "      <td>0.0</td>\n",
       "      <td>0.0</td>\n",
       "      <td>0.0</td>\n",
       "      <td>0.0</td>\n",
       "      <td>0.0</td>\n",
       "      <td>0.0</td>\n",
       "      <td>0.0</td>\n",
       "      <td>0.0</td>\n",
       "    </tr>\n",
       "    <tr>\n",
       "      <th>4</th>\n",
       "      <td>0.000000</td>\n",
       "      <td>0.0</td>\n",
       "      <td>0.0</td>\n",
       "      <td>0.0</td>\n",
       "      <td>0.0</td>\n",
       "      <td>0.0</td>\n",
       "      <td>0.0</td>\n",
       "      <td>0.0</td>\n",
       "      <td>0.0</td>\n",
       "      <td>0.000000</td>\n",
       "      <td>...</td>\n",
       "      <td>0.0</td>\n",
       "      <td>0.0</td>\n",
       "      <td>0.0</td>\n",
       "      <td>0.0</td>\n",
       "      <td>0.0</td>\n",
       "      <td>0.0</td>\n",
       "      <td>0.0</td>\n",
       "      <td>0.0</td>\n",
       "      <td>0.0</td>\n",
       "      <td>0.0</td>\n",
       "    </tr>\n",
       "    <tr>\n",
       "      <th>...</th>\n",
       "      <td>...</td>\n",
       "      <td>...</td>\n",
       "      <td>...</td>\n",
       "      <td>...</td>\n",
       "      <td>...</td>\n",
       "      <td>...</td>\n",
       "      <td>...</td>\n",
       "      <td>...</td>\n",
       "      <td>...</td>\n",
       "      <td>...</td>\n",
       "      <td>...</td>\n",
       "      <td>...</td>\n",
       "      <td>...</td>\n",
       "      <td>...</td>\n",
       "      <td>...</td>\n",
       "      <td>...</td>\n",
       "      <td>...</td>\n",
       "      <td>...</td>\n",
       "      <td>...</td>\n",
       "      <td>...</td>\n",
       "      <td>...</td>\n",
       "    </tr>\n",
       "    <tr>\n",
       "      <th>776</th>\n",
       "      <td>0.000000</td>\n",
       "      <td>0.0</td>\n",
       "      <td>0.0</td>\n",
       "      <td>0.0</td>\n",
       "      <td>0.0</td>\n",
       "      <td>0.0</td>\n",
       "      <td>0.0</td>\n",
       "      <td>0.0</td>\n",
       "      <td>0.0</td>\n",
       "      <td>0.000000</td>\n",
       "      <td>...</td>\n",
       "      <td>0.0</td>\n",
       "      <td>0.0</td>\n",
       "      <td>0.0</td>\n",
       "      <td>0.0</td>\n",
       "      <td>0.0</td>\n",
       "      <td>0.0</td>\n",
       "      <td>0.0</td>\n",
       "      <td>0.0</td>\n",
       "      <td>0.0</td>\n",
       "      <td>0.0</td>\n",
       "    </tr>\n",
       "    <tr>\n",
       "      <th>777</th>\n",
       "      <td>0.000000</td>\n",
       "      <td>0.0</td>\n",
       "      <td>0.0</td>\n",
       "      <td>0.0</td>\n",
       "      <td>0.0</td>\n",
       "      <td>0.0</td>\n",
       "      <td>0.0</td>\n",
       "      <td>0.0</td>\n",
       "      <td>0.0</td>\n",
       "      <td>0.000000</td>\n",
       "      <td>...</td>\n",
       "      <td>0.0</td>\n",
       "      <td>0.0</td>\n",
       "      <td>0.0</td>\n",
       "      <td>0.0</td>\n",
       "      <td>0.0</td>\n",
       "      <td>0.0</td>\n",
       "      <td>0.0</td>\n",
       "      <td>0.0</td>\n",
       "      <td>0.0</td>\n",
       "      <td>0.0</td>\n",
       "    </tr>\n",
       "    <tr>\n",
       "      <th>778</th>\n",
       "      <td>0.000000</td>\n",
       "      <td>0.0</td>\n",
       "      <td>0.0</td>\n",
       "      <td>0.0</td>\n",
       "      <td>0.0</td>\n",
       "      <td>0.0</td>\n",
       "      <td>0.0</td>\n",
       "      <td>0.0</td>\n",
       "      <td>0.0</td>\n",
       "      <td>0.000000</td>\n",
       "      <td>...</td>\n",
       "      <td>0.0</td>\n",
       "      <td>0.0</td>\n",
       "      <td>0.0</td>\n",
       "      <td>0.0</td>\n",
       "      <td>0.0</td>\n",
       "      <td>0.0</td>\n",
       "      <td>0.0</td>\n",
       "      <td>0.0</td>\n",
       "      <td>0.0</td>\n",
       "      <td>0.0</td>\n",
       "    </tr>\n",
       "    <tr>\n",
       "      <th>779</th>\n",
       "      <td>0.000000</td>\n",
       "      <td>0.0</td>\n",
       "      <td>0.0</td>\n",
       "      <td>0.0</td>\n",
       "      <td>0.0</td>\n",
       "      <td>0.0</td>\n",
       "      <td>0.0</td>\n",
       "      <td>0.0</td>\n",
       "      <td>0.0</td>\n",
       "      <td>0.000000</td>\n",
       "      <td>...</td>\n",
       "      <td>0.0</td>\n",
       "      <td>0.0</td>\n",
       "      <td>0.0</td>\n",
       "      <td>0.0</td>\n",
       "      <td>0.0</td>\n",
       "      <td>0.0</td>\n",
       "      <td>0.0</td>\n",
       "      <td>0.0</td>\n",
       "      <td>0.0</td>\n",
       "      <td>0.0</td>\n",
       "    </tr>\n",
       "    <tr>\n",
       "      <th>780</th>\n",
       "      <td>0.000000</td>\n",
       "      <td>0.0</td>\n",
       "      <td>0.0</td>\n",
       "      <td>0.0</td>\n",
       "      <td>0.0</td>\n",
       "      <td>0.0</td>\n",
       "      <td>0.0</td>\n",
       "      <td>0.0</td>\n",
       "      <td>0.0</td>\n",
       "      <td>0.151773</td>\n",
       "      <td>...</td>\n",
       "      <td>0.0</td>\n",
       "      <td>0.0</td>\n",
       "      <td>0.0</td>\n",
       "      <td>0.0</td>\n",
       "      <td>0.0</td>\n",
       "      <td>0.0</td>\n",
       "      <td>0.0</td>\n",
       "      <td>0.0</td>\n",
       "      <td>0.0</td>\n",
       "      <td>0.0</td>\n",
       "    </tr>\n",
       "  </tbody>\n",
       "</table>\n",
       "<p>781 rows × 5776 columns</p>\n",
       "</div>"
      ],
      "text/plain": [
       "          000  000 computers  000 fans  000 loan  000 of  000 to  000 was  \\\n",
       "0    0.139847            0.0       0.0       0.0     0.0     0.0      0.0   \n",
       "1    0.000000            0.0       0.0       0.0     0.0     0.0      0.0   \n",
       "2    0.000000            0.0       0.0       0.0     0.0     0.0      0.0   \n",
       "3    0.000000            0.0       0.0       0.0     0.0     0.0      0.0   \n",
       "4    0.000000            0.0       0.0       0.0     0.0     0.0      0.0   \n",
       "..        ...            ...       ...       ...     ...     ...      ...   \n",
       "776  0.000000            0.0       0.0       0.0     0.0     0.0      0.0   \n",
       "777  0.000000            0.0       0.0       0.0     0.0     0.0      0.0   \n",
       "778  0.000000            0.0       0.0       0.0     0.0     0.0      0.0   \n",
       "779  0.000000            0.0       0.0       0.0     0.0     0.0      0.0   \n",
       "780  0.000000            0.0       0.0       0.0     0.0     0.0      0.0   \n",
       "\n",
       "     000 women   05        10  ...  young people  youngest  youngsters  your  \\\n",
       "0          0.0  0.0  0.000000  ...           0.0       0.0         0.0   0.0   \n",
       "1          0.0  0.0  0.000000  ...           0.0       0.0         0.0   0.0   \n",
       "2          0.0  0.0  0.000000  ...           0.0       0.0         0.0   0.0   \n",
       "3          0.0  0.0  0.000000  ...           0.0       0.0         0.0   0.0   \n",
       "4          0.0  0.0  0.000000  ...           0.0       0.0         0.0   0.0   \n",
       "..         ...  ...       ...  ...           ...       ...         ...   ...   \n",
       "776        0.0  0.0  0.000000  ...           0.0       0.0         0.0   0.0   \n",
       "777        0.0  0.0  0.000000  ...           0.0       0.0         0.0   0.0   \n",
       "778        0.0  0.0  0.000000  ...           0.0       0.0         0.0   0.0   \n",
       "779        0.0  0.0  0.000000  ...           0.0       0.0         0.0   0.0   \n",
       "780        0.0  0.0  0.151773  ...           0.0       0.0         0.0   0.0   \n",
       "\n",
       "     your vote  youtube  youtube and  yvonne  yvonne fletcher  zoe  \n",
       "0          0.0      0.0          0.0     0.0              0.0  0.0  \n",
       "1          0.0      0.0          0.0     0.0              0.0  0.0  \n",
       "2          0.0      0.0          0.0     0.0              0.0  0.0  \n",
       "3          0.0      0.0          0.0     0.0              0.0  0.0  \n",
       "4          0.0      0.0          0.0     0.0              0.0  0.0  \n",
       "..         ...      ...          ...     ...              ...  ...  \n",
       "776        0.0      0.0          0.0     0.0              0.0  0.0  \n",
       "777        0.0      0.0          0.0     0.0              0.0  0.0  \n",
       "778        0.0      0.0          0.0     0.0              0.0  0.0  \n",
       "779        0.0      0.0          0.0     0.0              0.0  0.0  \n",
       "780        0.0      0.0          0.0     0.0              0.0  0.0  \n",
       "\n",
       "[781 rows x 5776 columns]"
      ]
     },
     "execution_count": 39,
     "metadata": {},
     "output_type": "execute_result"
    }
   ],
   "source": [
    "#단어행렬출력\n",
    "df_tfidf = pd.DataFrame(text_data.A, columns=vectorizer.get_feature_names())\n",
    "df_tfidf"
   ]
  },
  {
   "cell_type": "markdown",
   "metadata": {},
   "source": [
    "## 뉴스 분류"
   ]
  },
  {
   "cell_type": "code",
   "execution_count": 40,
   "metadata": {},
   "outputs": [],
   "source": [
    "from sklearn.metrics import confusion_matrix\n",
    "from sklearn.metrics import classification_report\n",
    "from sklearn.metrics import f1_score\n",
    "from sklearn.metrics import accuracy_score"
   ]
  },
  {
   "cell_type": "code",
   "execution_count": 41,
   "metadata": {},
   "outputs": [],
   "source": [
    "description = df['description'].astype(str).tolist()\n",
    "category = df['category'].astype(str).tolist()"
   ]
  },
  {
   "cell_type": "code",
   "execution_count": 42,
   "metadata": {},
   "outputs": [],
   "source": [
    "trainset_size = int(round(len(description)*0.80))\n",
    "\n",
    "x_train = np.array([''.join(data) for data in description[0:trainset_size]])\n",
    "y_train = np.array([data for data in category[0:trainset_size]])\n",
    "\n",
    "x_test = np.array([''.join(data) for data in description[trainset_size+1:len(description)]])\n",
    "y_test = np.array([data for data in category[trainset_size+1:len(category)]])"
   ]
  },
  {
   "cell_type": "code",
   "execution_count": 43,
   "metadata": {},
   "outputs": [],
   "source": [
    "X_train = vectorizer.fit_transform(x_train)\n",
    "X_test = vectorizer.transform(x_test)"
   ]
  },
  {
   "cell_type": "code",
   "execution_count": 44,
   "metadata": {},
   "outputs": [
    {
     "data": {
      "text/html": [
       "<div>\n",
       "<style scoped>\n",
       "    .dataframe tbody tr th:only-of-type {\n",
       "        vertical-align: middle;\n",
       "    }\n",
       "\n",
       "    .dataframe tbody tr th {\n",
       "        vertical-align: top;\n",
       "    }\n",
       "\n",
       "    .dataframe thead th {\n",
       "        text-align: right;\n",
       "    }\n",
       "</style>\n",
       "<table border=\"1\" class=\"dataframe\">\n",
       "  <thead>\n",
       "    <tr style=\"text-align: right;\">\n",
       "      <th></th>\n",
       "      <th>Classifier</th>\n",
       "      <th>F-Measure</th>\n",
       "      <th>Accuracy</th>\n",
       "    </tr>\n",
       "  </thead>\n",
       "  <tbody>\n",
       "  </tbody>\n",
       "</table>\n",
       "</div>"
      ],
      "text/plain": [
       "Empty DataFrame\n",
       "Columns: [Classifier, F-Measure, Accuracy]\n",
       "Index: []"
      ]
     },
     "execution_count": 44,
     "metadata": {},
     "output_type": "execute_result"
    }
   ],
   "source": [
    "df_per = pd.DataFrame(columns=['Classifier', 'F-Measure', 'Accuracy'])\n",
    "df_per"
   ]
  },
  {
   "cell_type": "markdown",
   "metadata": {},
   "source": [
    "### Naive Bayes"
   ]
  },
  {
   "cell_type": "code",
   "execution_count": 45,
   "metadata": {},
   "outputs": [],
   "source": [
    "from sklearn.naive_bayes import MultinomialNB\n",
    "\n",
    "nb_classifier = MultinomialNB().fit(X_train, y_train)\n",
    "nb_pred = nb_classifier.predict(X_test)"
   ]
  },
  {
   "cell_type": "code",
   "execution_count": 46,
   "metadata": {},
   "outputs": [
    {
     "name": "stdout",
     "output_type": "stream",
     "text": [
      "\n",
      " Confusion Matrix \n",
      "\n",
      "[[10  0  1  3  5  0  1  0]\n",
      " [ 1 10  0  1  5  1  1  2]\n",
      " [ 1  1  9  3  3  0  3  0]\n",
      " [ 1  0  1  8  1  0  2  0]\n",
      " [ 3  0  0  0 12  0  1  0]\n",
      " [ 1  0  0  2  1 23  2  0]\n",
      " [ 2  0  0  1  3  0 10  0]\n",
      " [ 1  1  0  4  5  0  5  4]]\n",
      "\n",
      " Classification Report \n",
      "\n",
      "                      precision    recall  f1-score   support\n",
      "\n",
      "            Business       0.50      0.50      0.50        20\n",
      "       Entertainment       0.83      0.48      0.61        21\n",
      "              Health       0.82      0.45      0.58        20\n",
      "            Politics       0.36      0.62      0.46        13\n",
      "ScienceAndTechnology       0.34      0.75      0.47        16\n",
      "              Sports       0.96      0.79      0.87        29\n",
      "                  UK       0.40      0.62      0.49        16\n",
      "               World       0.67      0.20      0.31        20\n",
      "\n",
      "            accuracy                           0.55       155\n",
      "           macro avg       0.61      0.55      0.53       155\n",
      "        weighted avg       0.66      0.55      0.56       155\n",
      "\n"
     ]
    }
   ],
   "source": [
    "print('\\n Confusion Matrix \\n')\n",
    "print(confusion_matrix(y_test, nb_pred))\n",
    "print('\\n Classification Report \\n')\n",
    "print(classification_report(y_test, nb_pred))"
   ]
  },
  {
   "cell_type": "code",
   "execution_count": 47,
   "metadata": {},
   "outputs": [
    {
     "data": {
      "text/html": [
       "<div>\n",
       "<style scoped>\n",
       "    .dataframe tbody tr th:only-of-type {\n",
       "        vertical-align: middle;\n",
       "    }\n",
       "\n",
       "    .dataframe tbody tr th {\n",
       "        vertical-align: top;\n",
       "    }\n",
       "\n",
       "    .dataframe thead th {\n",
       "        text-align: right;\n",
       "    }\n",
       "</style>\n",
       "<table border=\"1\" class=\"dataframe\">\n",
       "  <thead>\n",
       "    <tr style=\"text-align: right;\">\n",
       "      <th></th>\n",
       "      <th>Classifier</th>\n",
       "      <th>F-Measure</th>\n",
       "      <th>Accuracy</th>\n",
       "    </tr>\n",
       "  </thead>\n",
       "  <tbody>\n",
       "    <tr>\n",
       "      <th>0</th>\n",
       "      <td>Naive Bayes</td>\n",
       "      <td>0.56</td>\n",
       "      <td>0.55</td>\n",
       "    </tr>\n",
       "  </tbody>\n",
       "</table>\n",
       "</div>"
      ],
      "text/plain": [
       "    Classifier  F-Measure  Accuracy\n",
       "0  Naive Bayes       0.56      0.55"
      ]
     },
     "execution_count": 47,
     "metadata": {},
     "output_type": "execute_result"
    }
   ],
   "source": [
    "fm = round(f1_score(y_test, nb_pred, average='weighted'), 2)\n",
    "ac = round(accuracy_score(y_test, nb_pred, normalize=True), 2)\n",
    "df_per.loc[len(df_per)] = ['Naive Bayes', fm, ac]\n",
    "df_per"
   ]
  },
  {
   "cell_type": "markdown",
   "metadata": {},
   "source": [
    "### Decision Tree"
   ]
  },
  {
   "cell_type": "code",
   "execution_count": 48,
   "metadata": {},
   "outputs": [],
   "source": [
    "from sklearn.tree import DecisionTreeClassifier\n",
    "\n",
    "dt_classifier = DecisionTreeClassifier().fit(X_train, y_train)\n",
    "dt_pred = dt_classifier.predict(X_test)"
   ]
  },
  {
   "cell_type": "code",
   "execution_count": 49,
   "metadata": {},
   "outputs": [
    {
     "name": "stdout",
     "output_type": "stream",
     "text": [
      "\n",
      " Confusion Matrix \n",
      "\n",
      "[[ 8  2  1  2  4  0  1  2]\n",
      " [ 0  5  3  3  3  1  0  6]\n",
      " [ 3  4  9  2  1  0  0  1]\n",
      " [ 2  1  1  6  0  2  1  0]\n",
      " [ 5  2  3  0  6  0  0  0]\n",
      " [ 1  2  3  0  1 19  0  3]\n",
      " [ 3  4  2  1  0  1  1  4]\n",
      " [ 2  2  2  5  2  0  0  7]]\n",
      "\n",
      " Classification Report \n",
      "\n",
      "                      precision    recall  f1-score   support\n",
      "\n",
      "            Business       0.33      0.40      0.36        20\n",
      "       Entertainment       0.23      0.24      0.23        21\n",
      "              Health       0.38      0.45      0.41        20\n",
      "            Politics       0.32      0.46      0.37        13\n",
      "ScienceAndTechnology       0.35      0.38      0.36        16\n",
      "              Sports       0.83      0.66      0.73        29\n",
      "                  UK       0.33      0.06      0.11        16\n",
      "               World       0.30      0.35      0.33        20\n",
      "\n",
      "            accuracy                           0.39       155\n",
      "           macro avg       0.38      0.37      0.36       155\n",
      "        weighted avg       0.41      0.39      0.39       155\n",
      "\n"
     ]
    }
   ],
   "source": [
    "print('\\n Confusion Matrix \\n')\n",
    "print(confusion_matrix(y_test, dt_pred))\n",
    "print('\\n Classification Report \\n')\n",
    "print(classification_report(y_test, dt_pred))"
   ]
  },
  {
   "cell_type": "code",
   "execution_count": 50,
   "metadata": {},
   "outputs": [
    {
     "data": {
      "text/html": [
       "<div>\n",
       "<style scoped>\n",
       "    .dataframe tbody tr th:only-of-type {\n",
       "        vertical-align: middle;\n",
       "    }\n",
       "\n",
       "    .dataframe tbody tr th {\n",
       "        vertical-align: top;\n",
       "    }\n",
       "\n",
       "    .dataframe thead th {\n",
       "        text-align: right;\n",
       "    }\n",
       "</style>\n",
       "<table border=\"1\" class=\"dataframe\">\n",
       "  <thead>\n",
       "    <tr style=\"text-align: right;\">\n",
       "      <th></th>\n",
       "      <th>Classifier</th>\n",
       "      <th>F-Measure</th>\n",
       "      <th>Accuracy</th>\n",
       "    </tr>\n",
       "  </thead>\n",
       "  <tbody>\n",
       "    <tr>\n",
       "      <th>0</th>\n",
       "      <td>Naive Bayes</td>\n",
       "      <td>0.56</td>\n",
       "      <td>0.55</td>\n",
       "    </tr>\n",
       "    <tr>\n",
       "      <th>1</th>\n",
       "      <td>Decison Tree</td>\n",
       "      <td>0.39</td>\n",
       "      <td>0.39</td>\n",
       "    </tr>\n",
       "  </tbody>\n",
       "</table>\n",
       "</div>"
      ],
      "text/plain": [
       "     Classifier  F-Measure  Accuracy\n",
       "0   Naive Bayes       0.56      0.55\n",
       "1  Decison Tree       0.39      0.39"
      ]
     },
     "execution_count": 50,
     "metadata": {},
     "output_type": "execute_result"
    }
   ],
   "source": [
    "fm = round(f1_score(y_test, dt_pred, average='weighted'), 2)\n",
    "ac = round(accuracy_score(y_test, dt_pred, normalize=True), 2)\n",
    "df_per.loc[len(df_per)] = ['Decison Tree', fm, ac]\n",
    "df_per"
   ]
  },
  {
   "cell_type": "markdown",
   "metadata": {},
   "source": [
    "### Random Forest"
   ]
  },
  {
   "cell_type": "code",
   "execution_count": 51,
   "metadata": {},
   "outputs": [],
   "source": [
    "from sklearn.ensemble import RandomForestClassifier\n",
    "\n",
    "rf_classifier = RandomForestClassifier(n_estimators=100)\n",
    "rf_classifier.fit(X_train, y_train)\n",
    "rf_pred = rf_classifier.predict(X_test)"
   ]
  },
  {
   "cell_type": "code",
   "execution_count": 52,
   "metadata": {},
   "outputs": [
    {
     "name": "stdout",
     "output_type": "stream",
     "text": [
      "\n",
      " Confusion Matrix \n",
      "\n",
      "[[ 4  0  0  2 12  0  1  1]\n",
      " [ 0  9  2  1  4  2  0  3]\n",
      " [ 0  1 12  1  5  0  1  0]\n",
      " [ 1  0  2  6  2  0  2  0]\n",
      " [ 3  1  1  0  9  0  1  1]\n",
      " [ 1  3  0  0  3 21  0  1]\n",
      " [ 0  0  1  1  6  0  8  0]\n",
      " [ 3  2  2  2  6  0  1  4]]\n",
      "\n",
      " Classification Report \n",
      "\n",
      "                      precision    recall  f1-score   support\n",
      "\n",
      "            Business       0.33      0.20      0.25        20\n",
      "       Entertainment       0.56      0.43      0.49        21\n",
      "              Health       0.60      0.60      0.60        20\n",
      "            Politics       0.46      0.46      0.46        13\n",
      "ScienceAndTechnology       0.19      0.56      0.29        16\n",
      "              Sports       0.91      0.72      0.81        29\n",
      "                  UK       0.57      0.50      0.53        16\n",
      "               World       0.40      0.20      0.27        20\n",
      "\n",
      "            accuracy                           0.47       155\n",
      "           macro avg       0.50      0.46      0.46       155\n",
      "        weighted avg       0.54      0.47      0.48       155\n",
      "\n"
     ]
    }
   ],
   "source": [
    "print('\\n Confusion Matrix \\n')\n",
    "print(confusion_matrix(y_test, rf_pred))\n",
    "print('\\n Classification Report \\n')\n",
    "print(classification_report(y_test, rf_pred))"
   ]
  },
  {
   "cell_type": "code",
   "execution_count": 53,
   "metadata": {},
   "outputs": [
    {
     "data": {
      "text/html": [
       "<div>\n",
       "<style scoped>\n",
       "    .dataframe tbody tr th:only-of-type {\n",
       "        vertical-align: middle;\n",
       "    }\n",
       "\n",
       "    .dataframe tbody tr th {\n",
       "        vertical-align: top;\n",
       "    }\n",
       "\n",
       "    .dataframe thead th {\n",
       "        text-align: right;\n",
       "    }\n",
       "</style>\n",
       "<table border=\"1\" class=\"dataframe\">\n",
       "  <thead>\n",
       "    <tr style=\"text-align: right;\">\n",
       "      <th></th>\n",
       "      <th>Classifier</th>\n",
       "      <th>F-Measure</th>\n",
       "      <th>Accuracy</th>\n",
       "    </tr>\n",
       "  </thead>\n",
       "  <tbody>\n",
       "    <tr>\n",
       "      <th>0</th>\n",
       "      <td>Naive Bayes</td>\n",
       "      <td>0.56</td>\n",
       "      <td>0.55</td>\n",
       "    </tr>\n",
       "    <tr>\n",
       "      <th>1</th>\n",
       "      <td>Decison Tree</td>\n",
       "      <td>0.39</td>\n",
       "      <td>0.39</td>\n",
       "    </tr>\n",
       "    <tr>\n",
       "      <th>2</th>\n",
       "      <td>Random Forest</td>\n",
       "      <td>0.48</td>\n",
       "      <td>0.47</td>\n",
       "    </tr>\n",
       "  </tbody>\n",
       "</table>\n",
       "</div>"
      ],
      "text/plain": [
       "      Classifier  F-Measure  Accuracy\n",
       "0    Naive Bayes       0.56      0.55\n",
       "1   Decison Tree       0.39      0.39\n",
       "2  Random Forest       0.48      0.47"
      ]
     },
     "execution_count": 53,
     "metadata": {},
     "output_type": "execute_result"
    }
   ],
   "source": [
    "fm = round(f1_score(y_test, rf_pred, average='weighted'), 2)\n",
    "ac = round(accuracy_score(y_test, rf_pred, normalize=True), 2)\n",
    "df_per.loc[len(df_per)] = ['Random Forest', fm, ac]\n",
    "df_per"
   ]
  },
  {
   "cell_type": "markdown",
   "metadata": {},
   "source": [
    "### Support Vector Machine"
   ]
  },
  {
   "cell_type": "code",
   "execution_count": 54,
   "metadata": {},
   "outputs": [],
   "source": [
    "from sklearn.svm import LinearSVC\n",
    "\n",
    "svm_classifier = LinearSVC().fit(X_train, y_train)\n",
    "svm_pred = svm_classifier.predict(X_test)"
   ]
  },
  {
   "cell_type": "code",
   "execution_count": 55,
   "metadata": {},
   "outputs": [
    {
     "name": "stdout",
     "output_type": "stream",
     "text": [
      "\n",
      " Confusion Matrix \n",
      "\n",
      "[[10  1  1  3  3  0  1  1]\n",
      " [ 0 11  0  2  4  1  1  2]\n",
      " [ 1  1 10  3  4  0  1  0]\n",
      " [ 1  0  1  7  1  0  1  2]\n",
      " [ 3  3  1  1  7  0  1  0]\n",
      " [ 1  2  0  1  0 25  0  0]\n",
      " [ 2  1  1  1  1  0 10  0]\n",
      " [ 2  1  1  3  3  0  3  7]]\n",
      "\n",
      " Classification Report \n",
      "\n",
      "                      precision    recall  f1-score   support\n",
      "\n",
      "            Business       0.50      0.50      0.50        20\n",
      "       Entertainment       0.55      0.52      0.54        21\n",
      "              Health       0.67      0.50      0.57        20\n",
      "            Politics       0.33      0.54      0.41        13\n",
      "ScienceAndTechnology       0.30      0.44      0.36        16\n",
      "              Sports       0.96      0.86      0.91        29\n",
      "                  UK       0.56      0.62      0.59        16\n",
      "               World       0.58      0.35      0.44        20\n",
      "\n",
      "            accuracy                           0.56       155\n",
      "           macro avg       0.56      0.54      0.54       155\n",
      "        weighted avg       0.60      0.56      0.57       155\n",
      "\n"
     ]
    }
   ],
   "source": [
    "print('\\n Confusion Matrix \\n')\n",
    "print(confusion_matrix(y_test, svm_pred))\n",
    "print('\\n Classification Report \\n')\n",
    "print(classification_report(y_test, svm_pred))"
   ]
  },
  {
   "cell_type": "code",
   "execution_count": 56,
   "metadata": {},
   "outputs": [
    {
     "data": {
      "text/html": [
       "<div>\n",
       "<style scoped>\n",
       "    .dataframe tbody tr th:only-of-type {\n",
       "        vertical-align: middle;\n",
       "    }\n",
       "\n",
       "    .dataframe tbody tr th {\n",
       "        vertical-align: top;\n",
       "    }\n",
       "\n",
       "    .dataframe thead th {\n",
       "        text-align: right;\n",
       "    }\n",
       "</style>\n",
       "<table border=\"1\" class=\"dataframe\">\n",
       "  <thead>\n",
       "    <tr style=\"text-align: right;\">\n",
       "      <th></th>\n",
       "      <th>Classifier</th>\n",
       "      <th>F-Measure</th>\n",
       "      <th>Accuracy</th>\n",
       "    </tr>\n",
       "  </thead>\n",
       "  <tbody>\n",
       "    <tr>\n",
       "      <th>0</th>\n",
       "      <td>Naive Bayes</td>\n",
       "      <td>0.56</td>\n",
       "      <td>0.55</td>\n",
       "    </tr>\n",
       "    <tr>\n",
       "      <th>1</th>\n",
       "      <td>Decison Tree</td>\n",
       "      <td>0.39</td>\n",
       "      <td>0.39</td>\n",
       "    </tr>\n",
       "    <tr>\n",
       "      <th>2</th>\n",
       "      <td>Random Forest</td>\n",
       "      <td>0.48</td>\n",
       "      <td>0.47</td>\n",
       "    </tr>\n",
       "    <tr>\n",
       "      <th>3</th>\n",
       "      <td>Support Vector Machine</td>\n",
       "      <td>0.57</td>\n",
       "      <td>0.56</td>\n",
       "    </tr>\n",
       "  </tbody>\n",
       "</table>\n",
       "</div>"
      ],
      "text/plain": [
       "               Classifier  F-Measure  Accuracy\n",
       "0             Naive Bayes       0.56      0.55\n",
       "1            Decison Tree       0.39      0.39\n",
       "2           Random Forest       0.48      0.47\n",
       "3  Support Vector Machine       0.57      0.56"
      ]
     },
     "execution_count": 56,
     "metadata": {},
     "output_type": "execute_result"
    }
   ],
   "source": [
    "fm = round(f1_score(y_test, svm_pred, average='weighted'), 2)\n",
    "ac = round(accuracy_score(y_test, svm_pred, normalize=True), 2)\n",
    "df_per.loc[len(df_per)] = ['Support Vector Machine', fm, ac]\n",
    "df_per"
   ]
  },
  {
   "cell_type": "code",
   "execution_count": 57,
   "metadata": {},
   "outputs": [
    {
     "data": {
      "text/html": [
       "<div>\n",
       "<style scoped>\n",
       "    .dataframe tbody tr th:only-of-type {\n",
       "        vertical-align: middle;\n",
       "    }\n",
       "\n",
       "    .dataframe tbody tr th {\n",
       "        vertical-align: top;\n",
       "    }\n",
       "\n",
       "    .dataframe thead th {\n",
       "        text-align: right;\n",
       "    }\n",
       "</style>\n",
       "<table border=\"1\" class=\"dataframe\">\n",
       "  <thead>\n",
       "    <tr style=\"text-align: right;\">\n",
       "      <th></th>\n",
       "      <th>F-Measure</th>\n",
       "      <th>Accuracy</th>\n",
       "    </tr>\n",
       "    <tr>\n",
       "      <th>Classifier</th>\n",
       "      <th></th>\n",
       "      <th></th>\n",
       "    </tr>\n",
       "  </thead>\n",
       "  <tbody>\n",
       "    <tr>\n",
       "      <th>Naive Bayes</th>\n",
       "      <td>0.56</td>\n",
       "      <td>0.55</td>\n",
       "    </tr>\n",
       "    <tr>\n",
       "      <th>Decison Tree</th>\n",
       "      <td>0.39</td>\n",
       "      <td>0.39</td>\n",
       "    </tr>\n",
       "    <tr>\n",
       "      <th>Random Forest</th>\n",
       "      <td>0.48</td>\n",
       "      <td>0.47</td>\n",
       "    </tr>\n",
       "    <tr>\n",
       "      <th>Support Vector Machine</th>\n",
       "      <td>0.57</td>\n",
       "      <td>0.56</td>\n",
       "    </tr>\n",
       "  </tbody>\n",
       "</table>\n",
       "</div>"
      ],
      "text/plain": [
       "                        F-Measure  Accuracy\n",
       "Classifier                                 \n",
       "Naive Bayes                  0.56      0.55\n",
       "Decison Tree                 0.39      0.39\n",
       "Random Forest                0.48      0.47\n",
       "Support Vector Machine       0.57      0.56"
      ]
     },
     "execution_count": 57,
     "metadata": {},
     "output_type": "execute_result"
    }
   ],
   "source": [
    "df_per_1 = df_per.set_index('Classifier')\n",
    "df_per_1"
   ]
  },
  {
   "cell_type": "markdown",
   "metadata": {},
   "source": [
    "### 성능비교"
   ]
  },
  {
   "cell_type": "code",
   "execution_count": 58,
   "metadata": {},
   "outputs": [
    {
     "data": {
      "image/png": "[encoded data removed]",
      "text/plain": [
       "<Figure size 720x504 with 1 Axes>"
      ]
     },
     "metadata": {
      "needs_background": "light"
     },
     "output_type": "display_data"
    }
   ],
   "source": [
    "ax = df_per_1[['F-Measure','Accuracy']].plot(kind='bar', title ='Performance'\n",
    "                                             , figsize=(10, 7), legend=True, fontsize=12)\n",
    "ax.set_xlabel('Classifier', fontsize=12)\n",
    "plt.show()"
   ]
  },
  {
   "cell_type": "code",
   "execution_count": null,
   "metadata": {},
   "outputs": [],
   "source": []
  }
 ],
 "metadata": {
  "kernelspec": {
   "display_name": "Python 3",
   "language": "python",
   "name": "python3"
  },
  "language_info": {
   "codemirror_mode": {
    "name": "ipython",
    "version": 3
   },
   "file_extension": ".py",
   "mimetype": "text/x-python",
   "name": "python",
   "nbconvert_exporter": "python",
   "pygments_lexer": "ipython3",
   "version": "3.8.5"
  }
 },
 "nbformat": 4,
 "nbformat_minor": 4
}
